{
 "cells": [
  {
   "cell_type": "markdown",
   "metadata": {},
   "source": [
    "## Aspect-Based Sentiment Analysis: Findings from Natural Language\n",
    "#### Code File \\#1: Data Exploration & Engineering\n",
    "\n",
    "Tahmeed Tureen - University of Michigan, Ann Arbor<br>\n",
    "Python file: <b>data-engin-tureen.py</b> <br>\n",
    "Description: Code to process the XML format dataset from 2014 SemEval Task 4"
   ]
  },
  {
   "cell_type": "code",
   "execution_count": 203,
   "metadata": {
    "collapsed": false
   },
   "outputs": [],
   "source": [
    "# Import Libraries\n",
    "import xml.etree.ElementTree as ET # To Parse the XML data\n",
    "import pandas as pd # import Pandas library\n",
    "import pickle # for pickling Python data structures\n",
    "from collections import Counter"
   ]
  },
  {
   "cell_type": "markdown",
   "metadata": {},
   "source": [
    "### Part I: Process the Raw Data"
   ]
  },
  {
   "cell_type": "code",
   "execution_count": 204,
   "metadata": {
    "collapsed": true
   },
   "outputs": [],
   "source": [
    "# Read in XML data (courtesy of SemEval 2014 committee)\n",
    "tree = ET.parse('../SemEval_14_Train/Restaurants_Train_v2.xml')\n",
    "# tree = ET.parse('../SemEval_14_Train/play.xml')\n",
    "root = tree.getroot()"
   ]
  },
  {
   "cell_type": "markdown",
   "metadata": {},
   "source": [
    "The data is nested like a tree because it's in XML format <br>\n",
    "We will loop through all of the sentences (reviews) <br>\n",
    "The whole XML data is nested under the root term: sentences <br>\n",
    "This root has branches named \"sentence\" (individual review) and we have multiple of these"
   ]
  },
  {
   "cell_type": "code",
   "execution_count": 205,
   "metadata": {
    "collapsed": true
   },
   "outputs": [],
   "source": [
    "processed_reviews = [] # this list will contain dictionaries, eventually we will convert it to a Pandas DataFrame\n",
    "\n",
    "for sen in root.findall(\"sentence\"):\n",
    "    # this dictionary will store the columns we are interested in storing for our processed dataset\n",
    "    data_dict = {} \n",
    "\n",
    "    review = sen[0].text # assign the text review to this variable\n",
    "    \n",
    "    # We add this at the beginning of the for loop to avoid adding terms to reviews that don't have terms\n",
    "    term_tokens = [] # slot 1 for value_container \n",
    "    term_pols = [] # slot 2 for value_container\n",
    "    cat_tokens = [] # list of all of the labeled categories for the data\n",
    "    cat_pols = [] # list of the associated polarities\n",
    "    \n",
    "    if sen.find(\"aspectTerms\"): # if there exists aspect terms in review \n",
    "\n",
    "        # we make define these lists because a review can have multiple aspects\n",
    "        term_tokens = [] # slot 1 for value_container\n",
    "        term_pols = [] # slot 2 for value_container\n",
    "        \n",
    "        # Iterate through individual aspect terms and strip its polarity\n",
    "        for branch in sen.find(\"aspectTerms\").findall(\"aspectTerm\"):\n",
    "            term = branch.get(\"term\")\n",
    "            term_polarity = branch.get(\"polarity\")\n",
    "\n",
    "            term_tokens.append(term)\n",
    "            term_pols.append(term_polarity)\n",
    "\n",
    "    if sen.find(\"aspectCategories\"): # if there exists labeled categories \n",
    "\n",
    "        # We define these lists because a review can have multiple aspects\n",
    "        cat_tokens = [] # list of all of the labeled categories for the data\n",
    "        cat_pols = [] # list of the associated polarities\n",
    "\n",
    "        for branch in sen.find(\"aspectCategories\").findall(\"aspectCategory\"):\n",
    "            category = branch.get(\"category\")\n",
    "            cat_polarity = branch.get(\"polarity\")\n",
    "\n",
    "            cat_tokens.append(category)\n",
    "            cat_pols.append(cat_polarity)\n",
    "\n",
    "    # Start assigning the values we just mined to appropriate keys in data_dict\n",
    "    data_dict[\"Review_ID\"] = sen.attrib[\"id\"]\n",
    "    data_dict[\"Review\"] = review\n",
    "    data_dict[\"Aspect_Term\"] = term_tokens\n",
    "    data_dict[\"Aspect_Polarity\"] = term_pols\n",
    "    data_dict[\"Aspect_Count\"] = len(term_tokens)\n",
    "    data_dict[\"Category\"] = cat_tokens\n",
    "    data_dict[\"Category_Polarity\"] = cat_pols\n",
    "    data_dict[\"Category_Count\"] = len(cat_tokens)\n",
    "\n",
    "    # each element in the following list will be a row for our processed dataset\n",
    "    processed_reviews.append(data_dict) # append data_dict"
   ]
  },
  {
   "cell_type": "markdown",
   "metadata": {},
   "source": [
    "We will convert this list into a Pandas DataFrame for convenience and also save it as a pickled file"
   ]
  },
  {
   "cell_type": "code",
   "execution_count": 206,
   "metadata": {
    "collapsed": false
   },
   "outputs": [
    {
     "name": "stdout",
     "output_type": "stream",
     "text": [
      "Shape of Training data (3041, 8)\n"
     ]
    }
   ],
   "source": [
    "reviews_pd = pd.DataFrame(processed_reviews)\n",
    "print(\"Shape of Training data\", reviews_pd.shape)\n",
    "# reviews_pd.head(3)"
   ]
  },
  {
   "cell_type": "code",
   "execution_count": 240,
   "metadata": {
    "collapsed": false
   },
   "outputs": [
    {
     "data": {
      "text/html": [
       "<div>\n",
       "<style scoped>\n",
       "    .dataframe tbody tr th:only-of-type {\n",
       "        vertical-align: middle;\n",
       "    }\n",
       "\n",
       "    .dataframe tbody tr th {\n",
       "        vertical-align: top;\n",
       "    }\n",
       "\n",
       "    .dataframe thead th {\n",
       "        text-align: right;\n",
       "    }\n",
       "</style>\n",
       "<table border=\"1\" class=\"dataframe\">\n",
       "  <thead>\n",
       "    <tr style=\"text-align: right;\">\n",
       "      <th></th>\n",
       "      <th>Review_ID</th>\n",
       "      <th>Review</th>\n",
       "      <th>Aspect_Term</th>\n",
       "      <th>Aspect_Polarity</th>\n",
       "      <th>Aspect_Count</th>\n",
       "      <th>Category</th>\n",
       "      <th>Category_Polarity</th>\n",
       "      <th>Category_Count</th>\n",
       "    </tr>\n",
       "  </thead>\n",
       "  <tbody>\n",
       "    <tr>\n",
       "      <th>0</th>\n",
       "      <td>3121</td>\n",
       "      <td>But the staff was so horrible to us.</td>\n",
       "      <td>[staff]</td>\n",
       "      <td>[negative]</td>\n",
       "      <td>1</td>\n",
       "      <td>[service]</td>\n",
       "      <td>[negative]</td>\n",
       "      <td>1</td>\n",
       "    </tr>\n",
       "    <tr>\n",
       "      <th>1</th>\n",
       "      <td>2777</td>\n",
       "      <td>To be completely fair, the only redeeming fact...</td>\n",
       "      <td>[food]</td>\n",
       "      <td>[positive]</td>\n",
       "      <td>1</td>\n",
       "      <td>[food, anecdotes/miscellaneous]</td>\n",
       "      <td>[positive, negative]</td>\n",
       "      <td>2</td>\n",
       "    </tr>\n",
       "  </tbody>\n",
       "</table>\n",
       "</div>"
      ],
      "text/plain": [
       "  Review_ID                                             Review Aspect_Term  \\\n",
       "0      3121               But the staff was so horrible to us.     [staff]   \n",
       "1      2777  To be completely fair, the only redeeming fact...      [food]   \n",
       "\n",
       "  Aspect_Polarity  Aspect_Count                         Category  \\\n",
       "0      [negative]             1                        [service]   \n",
       "1      [positive]             1  [food, anecdotes/miscellaneous]   \n",
       "\n",
       "      Category_Polarity  Category_Count  \n",
       "0            [negative]               1  \n",
       "1  [positive, negative]               2  "
      ]
     },
     "execution_count": 240,
     "metadata": {},
     "output_type": "execute_result"
    }
   ],
   "source": [
    "col_reform = ['Review_ID', 'Review', 'Aspect_Term', 'Aspect_Polarity', 'Aspect_Count', 'Category', 'Category_Polarity', 'Category_Count']\n",
    "reviews_pd = reviews_pd[col_reform]\n",
    "reviews_pd.head(2)"
   ]
  },
  {
   "cell_type": "markdown",
   "metadata": {},
   "source": [
    "Need to validate if we are actually data wrangling appropriate by checking how many aspect terms we are counting and if it is consistent with what SemEval provides in their paper (n = 3693)"
   ]
  },
  {
   "cell_type": "code",
   "execution_count": 208,
   "metadata": {
    "collapsed": false
   },
   "outputs": [
    {
     "name": "stdout",
     "output_type": "stream",
     "text": [
      "3693\n",
      "3693\n"
     ]
    }
   ],
   "source": [
    "print(sum(reviews_pd.iloc[:,4])) # the Aspect Count column\n",
    "print(sum([len(x) for x in reviews_pd.iloc[:,2]])) # the Aspect Term column"
   ]
  },
  {
   "cell_type": "markdown",
   "metadata": {},
   "source": [
    "Now, let's look at if we have the correct number of categories (n = 3713)"
   ]
  },
  {
   "cell_type": "code",
   "execution_count": 209,
   "metadata": {
    "collapsed": false
   },
   "outputs": [
    {
     "name": "stdout",
     "output_type": "stream",
     "text": [
      "3713\n",
      "3713\n"
     ]
    }
   ],
   "source": [
    "print(sum(reviews_pd.iloc[:,7]))\n",
    "print(sum([len(x) for x in reviews_pd.iloc[:,5]]))"
   ]
  },
  {
   "cell_type": "markdown",
   "metadata": {},
   "source": [
    "Both look good!! So, our data engineering is good so far"
   ]
  },
  {
   "cell_type": "markdown",
   "metadata": {},
   "source": [
    "### Part II: Dataset Exploration\n",
    "\n",
    "Now, we need to think about how we are going engineer this dataset... the test data SemEval provides doesn't have the ground truth sentiment values. So, we will have to do a train-test split so engineering this dataset needs some thinking!\n",
    "\n",
    "First, we noticed that some reviews have multiple aspect terms but have less aspect categories present in the dataset... we need to investigate this a bit more"
   ]
  },
  {
   "cell_type": "code",
   "execution_count": 210,
   "metadata": {
    "collapsed": false
   },
   "outputs": [
    {
     "name": "stdout",
     "output_type": "stream",
     "text": [
      "True\n",
      "False\n"
     ]
    }
   ],
   "source": [
    "# Let's see if there is an imbalance in the number of aspect terms we have and the aspect category\n",
    "print(len(reviews_pd.iloc[0,2]) == len(reviews_pd.iloc[0,5]))\n",
    "print(len(reviews_pd.iloc[1,2]) == len(reviews_pd.iloc[1,5]))"
   ]
  },
  {
   "cell_type": "code",
   "execution_count": 211,
   "metadata": {
    "collapsed": false
   },
   "outputs": [
    {
     "name": "stdout",
     "output_type": "stream",
     "text": [
      "(721, 8)\n",
      "(1177, 8)\n",
      "1898\n",
      "1143\n"
     ]
    }
   ],
   "source": [
    "# make subsets of the data that have either more aspect terms or more categories then terms...\n",
    "reviews_pd_MoreTerms = reviews_pd[reviews_pd.Aspect_Count > reviews_pd.Category_Count]\n",
    "print(reviews_pd_MoreTerms.shape)\n",
    "\n",
    "reviews_pd_MoreCats = reviews_pd[reviews_pd.Aspect_Count < reviews_pd.Category_Count]\n",
    "print(reviews_pd_MoreCats.shape)\n",
    "\n",
    "print(reviews_pd_MoreTerms.shape[0] + reviews_pd_MoreCats.shape[0])\n",
    "\n",
    "# make subset of the data that has perfect balance\n",
    "reviews_pd_Balance = reviews_pd[reviews_pd.Aspect_Count == reviews_pd.Category_Count]\n",
    "print(reviews_pd_Balance.shape[0])"
   ]
  },
  {
   "cell_type": "markdown",
   "metadata": {},
   "source": [
    "Only 1143 of the reviews have a the same number of aspect terms as the categories. We need to dig a little deeper about how the categories are assigned for the imbalanced reviews. The SemEval paper doesn't discuss this feature of the data annotation process too much, but they mention that there were disagreements between annotators.<br>\n",
    "\n",
    "Findings:\n",
    "- 721 reviews have more aspect terms than aspect categories<br>\n",
    "- 1177 reviews have less aspect terms than aspect categories<br>\n",
    "- 1143 reviews have the same # of aspect terms as aspect categories"
   ]
  },
  {
   "cell_type": "code",
   "execution_count": 212,
   "metadata": {
    "collapsed": false
   },
   "outputs": [
    {
     "name": "stdout",
     "output_type": "stream",
     "text": [
      "0\n",
      "1020\n"
     ]
    }
   ],
   "source": [
    "print(reviews_pd[reviews_pd.Category_Count == 0].shape[0])\n",
    "\n",
    "reviews_pd_NoAspTerms = reviews_pd[reviews_pd.Aspect_Count == 0]\n",
    "print(reviews_pd_NoAspTerms.shape[0])"
   ]
  },
  {
   "cell_type": "markdown",
   "metadata": {},
   "source": [
    "There are actually 1020 rows without any aspect terms at all. So, we can't even do term extraction for some of these reviews... But, all of the reviews have atleast one category associated with it... this is very interesting<br>\n",
    "\n",
    "We'll look at the subset of reviews that have more aspect terms than categories. My hunch is that some of the reviews that have multiple aspect terms and lower categories are grouped into the same category. That is, maybe all of the aspect terms fall into just one category, and the annotators didn't bother adding the same category twice.<br>"
   ]
  },
  {
   "cell_type": "markdown",
   "metadata": {},
   "source": [
    "#### More Aspect Terms than Category Terms"
   ]
  },
  {
   "cell_type": "code",
   "execution_count": 213,
   "metadata": {
    "collapsed": false
   },
   "outputs": [
    {
     "name": "stdout",
     "output_type": "stream",
     "text": [
      "Counter({2: 342, 3: 225, 4: 101, 5: 29, 6: 15, 7: 5, 8: 3, 9: 1})\n",
      "Counter({1: 592, 2: 109, 3: 19, 4: 1})\n"
     ]
    }
   ],
   "source": [
    "# Save these subset data frames into CSVs so we can manually go through and explore them\n",
    "reviews_pd_MoreTerms = reviews_pd_MoreTerms[col_reform] # reformat the column arrangement\n",
    "reviews_pd_MoreTerms.to_csv(\"exploration_data/reviews_more_AspTerms.csv\")\n",
    "\n",
    "print(Counter(reviews_pd_MoreTerms.Aspect_Count))\n",
    "print(Counter(reviews_pd_MoreTerms.Category_Count))"
   ]
  },
  {
   "cell_type": "markdown",
   "metadata": {},
   "source": []
  },
  {
   "cell_type": "markdown",
   "metadata": {},
   "source": [
    "Our hunch was correct, it looks like most of these reviews have multiple aspect terms and they all fall into one of the categories... The annotators didn't include the same category more than once... We need to engineer this for our dataset<br>\n",
    "\n",
    "Findings:\n",
    "- When Category Count = 1, then all of the aspect terms in the review belong to that category\n",
    "- When Category Count > 1, then the aspect terms are divided (this is more nuanced)\n",
    "\n",
    "We can only really account for the first bullet point and just collapse all of the aspect terms to that category and create repeating rows. But, apart from that... there isn't much we can do to re-annotate this dataset"
   ]
  },
  {
   "cell_type": "markdown",
   "metadata": {},
   "source": [
    "#### More Categories than Aspect Term"
   ]
  },
  {
   "cell_type": "code",
   "execution_count": 223,
   "metadata": {
    "collapsed": false
   },
   "outputs": [
    {
     "name": "stdout",
     "output_type": "stream",
     "text": [
      "Counter({0: 1020, 1: 138, 2: 18, 3: 1})\n",
      "Counter({1: 988, 2: 165, 3: 22, 4: 2})\n"
     ]
    }
   ],
   "source": [
    "reviews_pd_MoreCats = reviews_pd_MoreCats[col_reform]\n",
    "reviews_pd_MoreCats.to_csv(\"exploration_data/reviews_more_CatTerms.csv\")\n",
    "\n",
    "print(Counter(reviews_pd_MoreCats.Aspect_Count))\n",
    "print(Counter(reviews_pd_MoreCats.Category_Count))"
   ]
  },
  {
   "cell_type": "markdown",
   "metadata": {
    "collapsed": true
   },
   "source": [
    "Findings:\n",
    "- When Aspect Terms = 0, then Category = \"Anecdotes/Miscellanous\"\n",
    "- When Aspect Terms > 0, then Categories >= 1\n",
    "\n",
    "We also note that some of the reviews that don't have aspect terms still fall into a relevant category... the annotators did not annotate them well!"
   ]
  },
  {
   "cell_type": "markdown",
   "metadata": {},
   "source": [
    "We're gonna save this Pandas dataframe as a pickled file for future use"
   ]
  },
  {
   "cell_type": "code",
   "execution_count": 224,
   "metadata": {
    "collapsed": false
   },
   "outputs": [],
   "source": [
    "# Save data as pickled file so we can read it in easily later\n",
    "reviews_pd.to_pickle(\"pickled_data/pickled_reviews_pd.pkl\")\n",
    "# test_pickle = pickle.load(open(\"pickled_reviews_pd.pkl\", \"rb\"))"
   ]
  },
  {
   "cell_type": "markdown",
   "metadata": {},
   "source": [
    "### Part III: Data Engineering\n",
    "\n",
    "In this next section, we process the dataframe to create a new one that is re-formatted to an Category level instead of review level. In the previous dataframe the rows represented an entire review whereas now a row will represent a respective Category in the review. This will prevent a row from having multiple category, this will be good for our training"
   ]
  },
  {
   "cell_type": "code",
   "execution_count": 252,
   "metadata": {
    "collapsed": false
   },
   "outputs": [],
   "source": [
    "data_list_CatLevel = []\n",
    "\n",
    "# loop through the current \n",
    "for row in reviews_pd.itertuples(index=False):\n",
    "    category_list = row.Category\n",
    "    polarity_list = row.Category_Polarity\n",
    "    \n",
    "#     print(len(polarity_list) == len(category_list))\n",
    "    for i in range(len(category_list)):\n",
    "        data_dict = {}\n",
    "        \n",
    "        data_dict[\"Review_ID\"] = row.Review_ID\n",
    "        data_dict[\"Review\"] = row.Review\n",
    "        \n",
    "        current_pol = polarity_list[i] # get the polarity of the current category\n",
    "        current_category = category_list[i]\n",
    "        \n",
    "        if current_pol == \"conflict\":\n",
    "            current_pol = \"neutral\" # collapse these two levels together as one \n",
    "        \n",
    "        if current_category == \"anecdotes/miscellaneous\": # rename this label for visualization convenience\n",
    "            current_category = \"other\"\n",
    "        \n",
    "        \n",
    "        data_dict[\"Aspect_Term\"] = row.Aspect_Term\n",
    "        data_dict[\"Aspect_Count\"] = row.Aspect_Count\n",
    "        data_dict[\"Aspect_Polarity\"] = row.Aspect_Polarity\n",
    "        data_dict[\"Category\"] = current_category\n",
    "        data_dict[\"Category_Polarity\"] = current_pol\n",
    "\n",
    "        data_list_CatLevel.append(data_dict)\n",
    "\n",
    "#         if pol == \"conflict\":\n",
    "#             pol = \"neutral\"\n",
    "\n",
    "#         data_dict[\"Aspect Term\"] = terms_list[i]\n",
    "#         data_dict[\"Aspect Polarity\"] = pol\n",
    "#         data_dict[\"All Aspect Terms\"] = terms_list\n",
    "\n",
    "#         aspects_data_list.append(data_dict)"
   ]
  },
  {
   "cell_type": "code",
   "execution_count": 253,
   "metadata": {
    "collapsed": false
   },
   "outputs": [
    {
     "data": {
      "text/html": [
       "<div>\n",
       "<style scoped>\n",
       "    .dataframe tbody tr th:only-of-type {\n",
       "        vertical-align: middle;\n",
       "    }\n",
       "\n",
       "    .dataframe tbody tr th {\n",
       "        vertical-align: top;\n",
       "    }\n",
       "\n",
       "    .dataframe thead th {\n",
       "        text-align: right;\n",
       "    }\n",
       "</style>\n",
       "<table border=\"1\" class=\"dataframe\">\n",
       "  <thead>\n",
       "    <tr style=\"text-align: right;\">\n",
       "      <th></th>\n",
       "      <th>Review_ID</th>\n",
       "      <th>Review</th>\n",
       "      <th>Aspect_Term</th>\n",
       "      <th>Aspect_Polarity</th>\n",
       "      <th>Aspect_Count</th>\n",
       "      <th>Category</th>\n",
       "      <th>Category_Polarity</th>\n",
       "    </tr>\n",
       "  </thead>\n",
       "  <tbody>\n",
       "    <tr>\n",
       "      <th>0</th>\n",
       "      <td>3121</td>\n",
       "      <td>But the staff was so horrible to us.</td>\n",
       "      <td>[staff]</td>\n",
       "      <td>[negative]</td>\n",
       "      <td>1</td>\n",
       "      <td>service</td>\n",
       "      <td>negative</td>\n",
       "    </tr>\n",
       "    <tr>\n",
       "      <th>1</th>\n",
       "      <td>2777</td>\n",
       "      <td>To be completely fair, the only redeeming fact...</td>\n",
       "      <td>[food]</td>\n",
       "      <td>[positive]</td>\n",
       "      <td>1</td>\n",
       "      <td>food</td>\n",
       "      <td>positive</td>\n",
       "    </tr>\n",
       "    <tr>\n",
       "      <th>2</th>\n",
       "      <td>2777</td>\n",
       "      <td>To be completely fair, the only redeeming fact...</td>\n",
       "      <td>[food]</td>\n",
       "      <td>[positive]</td>\n",
       "      <td>1</td>\n",
       "      <td>other</td>\n",
       "      <td>negative</td>\n",
       "    </tr>\n",
       "    <tr>\n",
       "      <th>3</th>\n",
       "      <td>1634</td>\n",
       "      <td>The food is uniformly exceptional, with a very...</td>\n",
       "      <td>[food, kitchen, menu]</td>\n",
       "      <td>[positive, positive, neutral]</td>\n",
       "      <td>3</td>\n",
       "      <td>food</td>\n",
       "      <td>positive</td>\n",
       "    </tr>\n",
       "    <tr>\n",
       "      <th>4</th>\n",
       "      <td>2534</td>\n",
       "      <td>Where Gabriela personaly greets you and recomm...</td>\n",
       "      <td>[]</td>\n",
       "      <td>[]</td>\n",
       "      <td>0</td>\n",
       "      <td>service</td>\n",
       "      <td>positive</td>\n",
       "    </tr>\n",
       "  </tbody>\n",
       "</table>\n",
       "</div>"
      ],
      "text/plain": [
       "  Review_ID                                             Review  \\\n",
       "0      3121               But the staff was so horrible to us.   \n",
       "1      2777  To be completely fair, the only redeeming fact...   \n",
       "2      2777  To be completely fair, the only redeeming fact...   \n",
       "3      1634  The food is uniformly exceptional, with a very...   \n",
       "4      2534  Where Gabriela personaly greets you and recomm...   \n",
       "\n",
       "             Aspect_Term                Aspect_Polarity  Aspect_Count  \\\n",
       "0                [staff]                     [negative]             1   \n",
       "1                 [food]                     [positive]             1   \n",
       "2                 [food]                     [positive]             1   \n",
       "3  [food, kitchen, menu]  [positive, positive, neutral]             3   \n",
       "4                     []                             []             0   \n",
       "\n",
       "  Category Category_Polarity  \n",
       "0  service          negative  \n",
       "1     food          positive  \n",
       "2    other          negative  \n",
       "3     food          positive  \n",
       "4  service          positive  "
      ]
     },
     "execution_count": 253,
     "metadata": {},
     "output_type": "execute_result"
    }
   ],
   "source": [
    "# Convert to Pandas Data Frame for convenience\n",
    "reviews_pd_CatLevel = pd.DataFrame(data_list_CatLevel)\n",
    "reviews_pd_CatLevel = reviews_pd_CatLevel[col_reform[0:7]]\n",
    "reviews_pd_CatLevel.head(5)"
   ]
  },
  {
   "cell_type": "code",
   "execution_count": 246,
   "metadata": {
    "collapsed": false
   },
   "outputs": [
    {
     "data": {
      "text/plain": [
       "(3713, 7)"
      ]
     },
     "execution_count": 246,
     "metadata": {},
     "output_type": "execute_result"
    }
   ],
   "source": [
    "reviews_pd_CatLevel.shape"
   ]
  },
  {
   "cell_type": "markdown",
   "metadata": {},
   "source": [
    "Notice that the number of rows have changed. This means we have repeating reviews in this dataset but each individual row is in now respective of a category!"
   ]
  },
  {
   "cell_type": "markdown",
   "metadata": {},
   "source": [
    "### Part IV: Train/Test Split\n",
    "\n",
    "We will now split our dataset into a train and test subsets (85% to 15%)"
   ]
  },
  {
   "cell_type": "code",
   "execution_count": 279,
   "metadata": {
    "collapsed": false
   },
   "outputs": [
    {
     "name": "stdout",
     "output_type": "stream",
     "text": [
      "[3156, 557]\n"
     ]
    }
   ],
   "source": [
    "import math\n",
    "train_split = math.floor(3713 * 0.85)\n",
    "test_split = 3713 - math.floor(3713 * 0.85)\n",
    "print([train_split, test_split])"
   ]
  },
  {
   "cell_type": "code",
   "execution_count": 284,
   "metadata": {
    "collapsed": false
   },
   "outputs": [
    {
     "data": {
      "text/html": [
       "<div>\n",
       "<style scoped>\n",
       "    .dataframe tbody tr th:only-of-type {\n",
       "        vertical-align: middle;\n",
       "    }\n",
       "\n",
       "    .dataframe tbody tr th {\n",
       "        vertical-align: top;\n",
       "    }\n",
       "\n",
       "    .dataframe thead th {\n",
       "        text-align: right;\n",
       "    }\n",
       "</style>\n",
       "<table border=\"1\" class=\"dataframe\">\n",
       "  <thead>\n",
       "    <tr style=\"text-align: right;\">\n",
       "      <th></th>\n",
       "      <th>Review_ID</th>\n",
       "      <th>Review</th>\n",
       "      <th>Aspect_Term</th>\n",
       "      <th>Aspect_Polarity</th>\n",
       "      <th>Aspect_Count</th>\n",
       "      <th>Category</th>\n",
       "      <th>Category_Polarity</th>\n",
       "    </tr>\n",
       "  </thead>\n",
       "  <tbody>\n",
       "    <tr>\n",
       "      <th>3151</th>\n",
       "      <td>1163</td>\n",
       "      <td>The service is fantastic.</td>\n",
       "      <td>[service]</td>\n",
       "      <td>[positive]</td>\n",
       "      <td>1</td>\n",
       "      <td>service</td>\n",
       "      <td>positive</td>\n",
       "    </tr>\n",
       "    <tr>\n",
       "      <th>3152</th>\n",
       "      <td>216</td>\n",
       "      <td>I recommend that you try this hidden spot whic...</td>\n",
       "      <td>[]</td>\n",
       "      <td>[]</td>\n",
       "      <td>0</td>\n",
       "      <td>other</td>\n",
       "      <td>positive</td>\n",
       "    </tr>\n",
       "    <tr>\n",
       "      <th>3153</th>\n",
       "      <td>1109</td>\n",
       "      <td>The garlic mashed potatoes are hands down the ...</td>\n",
       "      <td>[garlic mashed potatoes]</td>\n",
       "      <td>[positive]</td>\n",
       "      <td>1</td>\n",
       "      <td>food</td>\n",
       "      <td>positive</td>\n",
       "    </tr>\n",
       "    <tr>\n",
       "      <th>3154</th>\n",
       "      <td>899</td>\n",
       "      <td>Food and service was okay.</td>\n",
       "      <td>[Food, service]</td>\n",
       "      <td>[neutral, neutral]</td>\n",
       "      <td>2</td>\n",
       "      <td>food</td>\n",
       "      <td>neutral</td>\n",
       "    </tr>\n",
       "    <tr>\n",
       "      <th>3155</th>\n",
       "      <td>899</td>\n",
       "      <td>Food and service was okay.</td>\n",
       "      <td>[Food, service]</td>\n",
       "      <td>[neutral, neutral]</td>\n",
       "      <td>2</td>\n",
       "      <td>service</td>\n",
       "      <td>neutral</td>\n",
       "    </tr>\n",
       "  </tbody>\n",
       "</table>\n",
       "</div>"
      ],
      "text/plain": [
       "     Review_ID                                             Review  \\\n",
       "3151      1163                          The service is fantastic.   \n",
       "3152       216  I recommend that you try this hidden spot whic...   \n",
       "3153      1109  The garlic mashed potatoes are hands down the ...   \n",
       "3154       899                         Food and service was okay.   \n",
       "3155       899                         Food and service was okay.   \n",
       "\n",
       "                   Aspect_Term     Aspect_Polarity  Aspect_Count Category  \\\n",
       "3151                 [service]          [positive]             1  service   \n",
       "3152                        []                  []             0    other   \n",
       "3153  [garlic mashed potatoes]          [positive]             1     food   \n",
       "3154           [Food, service]  [neutral, neutral]             2     food   \n",
       "3155           [Food, service]  [neutral, neutral]             2  service   \n",
       "\n",
       "     Category_Polarity  \n",
       "3151          positive  \n",
       "3152          positive  \n",
       "3153          positive  \n",
       "3154           neutral  \n",
       "3155           neutral  "
      ]
     },
     "execution_count": 284,
     "metadata": {},
     "output_type": "execute_result"
    }
   ],
   "source": [
    "train_data = reviews_pd_CatLevel.iloc[0:train_split,]\n",
    "train_data.shape\n",
    "train_data.tail()"
   ]
  },
  {
   "cell_type": "code",
   "execution_count": 285,
   "metadata": {
    "collapsed": false
   },
   "outputs": [
    {
     "data": {
      "text/html": [
       "<div>\n",
       "<style scoped>\n",
       "    .dataframe tbody tr th:only-of-type {\n",
       "        vertical-align: middle;\n",
       "    }\n",
       "\n",
       "    .dataframe tbody tr th {\n",
       "        vertical-align: top;\n",
       "    }\n",
       "\n",
       "    .dataframe thead th {\n",
       "        text-align: right;\n",
       "    }\n",
       "</style>\n",
       "<table border=\"1\" class=\"dataframe\">\n",
       "  <thead>\n",
       "    <tr style=\"text-align: right;\">\n",
       "      <th></th>\n",
       "      <th>Review_ID</th>\n",
       "      <th>Review</th>\n",
       "      <th>Aspect_Term</th>\n",
       "      <th>Aspect_Polarity</th>\n",
       "      <th>Aspect_Count</th>\n",
       "      <th>Category</th>\n",
       "      <th>Category_Polarity</th>\n",
       "    </tr>\n",
       "  </thead>\n",
       "  <tbody>\n",
       "    <tr>\n",
       "      <th>3708</th>\n",
       "      <td>1063</td>\n",
       "      <td>But that is highly forgivable.</td>\n",
       "      <td>[]</td>\n",
       "      <td>[]</td>\n",
       "      <td>0</td>\n",
       "      <td>other</td>\n",
       "      <td>positive</td>\n",
       "    </tr>\n",
       "    <tr>\n",
       "      <th>3709</th>\n",
       "      <td>777</td>\n",
       "      <td>From the appetizers we ate, the dim sum and ot...</td>\n",
       "      <td>[appetizers, dim sum, foods, food]</td>\n",
       "      <td>[positive, positive, positive, positive]</td>\n",
       "      <td>4</td>\n",
       "      <td>food</td>\n",
       "      <td>positive</td>\n",
       "    </tr>\n",
       "    <tr>\n",
       "      <th>3710</th>\n",
       "      <td>875</td>\n",
       "      <td>When we arrived at 6:00 PM, the restaurant was...</td>\n",
       "      <td>[]</td>\n",
       "      <td>[]</td>\n",
       "      <td>0</td>\n",
       "      <td>other</td>\n",
       "      <td>neutral</td>\n",
       "    </tr>\n",
       "    <tr>\n",
       "      <th>3711</th>\n",
       "      <td>671</td>\n",
       "      <td>Each table has a pot of boiling water sunken i...</td>\n",
       "      <td>[table, pot of boiling water, meats, vegetable...</td>\n",
       "      <td>[neutral, neutral, neutral, neutral, neutral, ...</td>\n",
       "      <td>6</td>\n",
       "      <td>food</td>\n",
       "      <td>neutral</td>\n",
       "    </tr>\n",
       "    <tr>\n",
       "      <th>3712</th>\n",
       "      <td>617</td>\n",
       "      <td>I am going to the mid town location next.</td>\n",
       "      <td>[]</td>\n",
       "      <td>[]</td>\n",
       "      <td>0</td>\n",
       "      <td>other</td>\n",
       "      <td>neutral</td>\n",
       "    </tr>\n",
       "  </tbody>\n",
       "</table>\n",
       "</div>"
      ],
      "text/plain": [
       "     Review_ID                                             Review  \\\n",
       "3708      1063                     But that is highly forgivable.   \n",
       "3709       777  From the appetizers we ate, the dim sum and ot...   \n",
       "3710       875  When we arrived at 6:00 PM, the restaurant was...   \n",
       "3711       671  Each table has a pot of boiling water sunken i...   \n",
       "3712       617          I am going to the mid town location next.   \n",
       "\n",
       "                                            Aspect_Term  \\\n",
       "3708                                                 []   \n",
       "3709                 [appetizers, dim sum, foods, food]   \n",
       "3710                                                 []   \n",
       "3711  [table, pot of boiling water, meats, vegetable...   \n",
       "3712                                                 []   \n",
       "\n",
       "                                        Aspect_Polarity  Aspect_Count  \\\n",
       "3708                                                 []             0   \n",
       "3709           [positive, positive, positive, positive]             4   \n",
       "3710                                                 []             0   \n",
       "3711  [neutral, neutral, neutral, neutral, neutral, ...             6   \n",
       "3712                                                 []             0   \n",
       "\n",
       "     Category Category_Polarity  \n",
       "3708    other          positive  \n",
       "3709     food          positive  \n",
       "3710    other           neutral  \n",
       "3711     food           neutral  \n",
       "3712    other           neutral  "
      ]
     },
     "execution_count": 285,
     "metadata": {},
     "output_type": "execute_result"
    }
   ],
   "source": [
    "test_data = reviews_pd_CatLevel.iloc[(3713 - test_split):,]\n",
    "test_data.shape\n",
    "test_data.tail()"
   ]
  },
  {
   "cell_type": "code",
   "execution_count": 247,
   "metadata": {
    "collapsed": false
   },
   "outputs": [],
   "source": [
    "## Save this as a pickled file for future use\n",
    "reviews_pd_CatLevel.to_pickle(\"pickled_data/pickled_reviews_pd_CatLevel.pkl\")"
   ]
  },
  {
   "cell_type": "markdown",
   "metadata": {},
   "source": [
    "### Data Summaries/ Manipulation for Visualization\n",
    "\n",
    "In this next section, we do some exploratory data summaries and also create some files so we can do some visualizations using R's ggplot2 package"
   ]
  },
  {
   "cell_type": "code",
   "execution_count": 295,
   "metadata": {
    "collapsed": false
   },
   "outputs": [
    {
     "data": {
      "text/plain": [
       "Counter({'ambience': 431,\n",
       "         'anecdotes/miscellaneous': 1132,\n",
       "         'food': 1232,\n",
       "         'price': 321,\n",
       "         'service': 597})"
      ]
     },
     "execution_count": 295,
     "metadata": {},
     "output_type": "execute_result"
    }
   ],
   "source": [
    "# Let's look at the distribution of the Aspect Categories first in the whole data\n",
    "data_for_viz = [] # for visualization later\n",
    "\n",
    "category_freq = []\n",
    "for cat in reviews_pd['Category']:\n",
    "    category_freq += cat\n",
    "category_freq = Counter(category_freq)\n",
    "\n",
    "data_for_viz.append(category_freq)\n",
    "category_freq"
   ]
  },
  {
   "cell_type": "markdown",
   "metadata": {},
   "source": [
    "It looks like we have 5 aspect categories (as claimed by SemEval) and the distribution looks exactly the same as well!"
   ]
  },
  {
   "cell_type": "code",
   "execution_count": 297,
   "metadata": {
    "collapsed": false
   },
   "outputs": [
    {
     "data": {
      "text/plain": [
       "Counter({'ambience': 367,\n",
       "         'food': 1050,\n",
       "         'other': 955,\n",
       "         'price': 277,\n",
       "         'service': 507})"
      ]
     },
     "execution_count": 297,
     "metadata": {},
     "output_type": "execute_result"
    }
   ],
   "source": [
    "# Let's look at the distribution of the Aspect Categories first in the train data\n",
    "category_freq = []\n",
    "for cat in train_data['Category']:\n",
    "    category_freq.append(cat)\n",
    "    \n",
    "category_freq = Counter(category_freq)\n",
    "data_for_viz.append(category_freq)\n",
    "category_freq"
   ]
  },
  {
   "cell_type": "code",
   "execution_count": 298,
   "metadata": {
    "collapsed": false
   },
   "outputs": [
    {
     "data": {
      "text/plain": [
       "Counter({'ambience': 64,\n",
       "         'food': 182,\n",
       "         'other': 177,\n",
       "         'price': 44,\n",
       "         'service': 90})"
      ]
     },
     "execution_count": 298,
     "metadata": {},
     "output_type": "execute_result"
    }
   ],
   "source": [
    "# Let's look at the distribution of the Aspect Categories first in the test data\n",
    "category_freq = []\n",
    "for cat in test_data['Category']:\n",
    "    category_freq.append(cat)\n",
    "    \n",
    "category_freq = Counter(category_freq)\n",
    "data_for_viz.append(category_freq)\n",
    "category_freq"
   ]
  },
  {
   "cell_type": "code",
   "execution_count": 301,
   "metadata": {
    "collapsed": false
   },
   "outputs": [],
   "source": [
    "# Write to a CSV so we can import into R for visualizations\n",
    "temp = pd.DataFrame(data_for_viz)\n",
    "temp.to_csv(\"exploration_data/category_freq.csv\")"
   ]
  },
  {
   "cell_type": "code",
   "execution_count": 303,
   "metadata": {
    "collapsed": false
   },
   "outputs": [
    {
     "data": {
      "text/plain": [
       "Counter({'negative': 124, 'neutral': 131, 'positive': 302})"
      ]
     },
     "execution_count": 303,
     "metadata": {},
     "output_type": "execute_result"
    }
   ],
   "source": [
    "Counter(train_data.Category_Polarity)\n",
    "Counter(test_data.Category_Polarity)"
   ]
  },
  {
   "cell_type": "markdown",
   "metadata": {},
   "source": [
    "We see a clear imbalance in our labels... there are a ton of positive sentiments than there are negative and neutral sentiments"
   ]
  },
  {
   "cell_type": "code",
   "execution_count": 254,
   "metadata": {
    "collapsed": false
   },
   "outputs": [],
   "source": [
    "import matplotlib.pyplot as plt\n",
    "import numpy as np"
   ]
  },
  {
   "cell_type": "code",
   "execution_count": 255,
   "metadata": {
    "collapsed": true
   },
   "outputs": [],
   "source": [
    "index = np.arange(len(category_freq.keys()))\n",
    "nums = category_freq.values()\n",
    "labels = category_freq.keys()"
   ]
  },
  {
   "cell_type": "code",
   "execution_count": 257,
   "metadata": {
    "collapsed": false
   },
   "outputs": [
    {
     "data": {
      "image/png": "[encoded data removed]",
      "text/plain": [
       "<Figure size 432x288 with 1 Axes>"
      ]
     },
     "metadata": {},
     "output_type": "display_data"
    }
   ],
   "source": [
    "plt.bar(index, nums)\n",
    "plt.bar(labels, nums, color='steelblue',  edgecolor='black')\n",
    "\n",
    "# add additional features to plot\n",
    "plt.title(\"Distribution of Aspect Categories in Training Data\")\n",
    "plt.ylabel(\"Occurence Count\", fontsize = 12)\n",
    "plt.xlabel(\"Aspect Categories\", fontsize = 12)\n",
    "plt.xticks(index, labels, fontsize=10, rotation=10)\n",
    "plt.show()"
   ]
  },
  {
   "cell_type": "markdown",
   "metadata": {},
   "source": [
    "Now we make a bar plot for the aspect terms"
   ]
  },
  {
   "cell_type": "code",
   "execution_count": 117,
   "metadata": {
    "collapsed": false
   },
   "outputs": [
    {
     "data": {
      "text/plain": [
       "array([ 0,  1,  2,  3,  4,  5,  6,  7,  8,  9, 10, 11, 12, 13, 14])"
      ]
     },
     "execution_count": 117,
     "metadata": {},
     "output_type": "execute_result"
    }
   ],
   "source": [
    "index = np.arange(len(term_freq_top15_x)) # for the xticks\n",
    "index"
   ]
  },
  {
   "cell_type": "code",
   "execution_count": 119,
   "metadata": {
    "collapsed": false
   },
   "outputs": [
    {
     "data": {
      "image/png": "[encoded data removed]",
      "text/plain": [
       "<Figure size 432x288 with 1 Axes>"
      ]
     },
     "metadata": {},
     "output_type": "display_data"
    }
   ],
   "source": [
    "plt.barh(index, term_freq_top15_y,\n",
    "         color='steelblue',  edgecolor='black')\n",
    "plt.yticks(index, term_freq_top15_x, fontsize = 10)\n",
    "plt.title(\"Distribution of Top 15 Aspect Terms in Training Data\")\n",
    "plt.ylabel(\"Aspect Terms\", fontsize = 12)\n",
    "plt.xlabel(\"Occurence Count\", fontsize = 12)\n",
    "plt.show()\n",
    "plt.savefig('term-dist.png')"
   ]
  },
  {
   "cell_type": "markdown",
   "metadata": {},
   "source": [
    "#### Let's look at the Polarity Distribution next\n",
    "We can just look at the counts of the positive, negative, and neutral sentiments in the category polarity column of our reviews_pd dataframe"
   ]
  },
  {
   "cell_type": "code",
   "execution_count": 113,
   "metadata": {
    "collapsed": false
   },
   "outputs": [
    {
     "data": {
      "text/plain": [
       "Counter({'conflict': 195, 'negative': 839, 'neutral': 500, 'positive': 2179})"
      ]
     },
     "execution_count": 113,
     "metadata": {},
     "output_type": "execute_result"
    }
   ],
   "source": [
    "# Let's look at the distribution of the Aspect Categories first\n",
    "category_freq = []\n",
    "for cat in reviews_pd['Category Polarity']:\n",
    "    category_freq += cat\n",
    "category_freq = Counter(category_freq)\n",
    "category_freq\n",
    "\n",
    "# 500 + 195"
   ]
  }
 ],
 "metadata": {
  "anaconda-cloud": {},
  "kernelspec": {
   "display_name": "Python [conda env:Anaconda3]",
   "language": "python",
   "name": "conda-env-Anaconda3-py"
  },
  "language_info": {
   "codemirror_mode": {
    "name": "ipython",
    "version": 3
   },
   "file_extension": ".py",
   "mimetype": "text/x-python",
   "name": "python",
   "nbconvert_exporter": "python",
   "pygments_lexer": "ipython3",
   "version": "3.5.6"
  }
 },
 "nbformat": 4,
 "nbformat_minor": 2
}
