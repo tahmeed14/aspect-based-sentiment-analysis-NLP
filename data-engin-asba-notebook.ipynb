{
 "cells": [
  {
   "cell_type": "markdown",
   "metadata": {},
   "source": [
    "## Aspect-Based Sentiment Analysis: Findings from Natural Language\n",
    "#### Code File \\#1: Data Engineering\n",
    "\n",
    "Tahmeed Tureen - University of Michigan, Ann Arbor<br>\n",
    "Python file: <b>data-engin-tureen.py</b> <br>\n",
    "Description: Code to process the XML format dataset from 2014 SemEval Task 4"
   ]
  },
  {
   "cell_type": "code",
   "execution_count": 2,
   "metadata": {
    "collapsed": false
   },
   "outputs": [],
   "source": [
    "# Import Libraries\n",
    "import xml.etree.ElementTree as ET # To Parse the XML data\n",
    "import pandas as pd # import Pandas library\n",
    "import pickle # for pickling Python data structures"
   ]
  },
  {
   "cell_type": "markdown",
   "metadata": {},
   "source": [
    "### Part I: Process the Raw Data"
   ]
  },
  {
   "cell_type": "code",
   "execution_count": 3,
   "metadata": {
    "collapsed": true
   },
   "outputs": [],
   "source": [
    "# Read in XML data\n",
    "tree = ET.parse('../SemEval_14_Train/Restaurants_Train_v2.xml')\n",
    "# tree = ET.parse('../SemEval_14_Train/play.xml')\n",
    "root = tree.getroot()"
   ]
  },
  {
   "cell_type": "markdown",
   "metadata": {},
   "source": [
    "The data is nested like a tree because it's in XML format <br>\n",
    "We will loop through all of the sentences (reviews) <br>\n",
    "The whole XML data is nested under the root term: sentences <br>\n",
    "This root has branches named \"sentence\" (individual review) and we have multiple of these"
   ]
  },
  {
   "cell_type": "code",
   "execution_count": 4,
   "metadata": {
    "collapsed": true
   },
   "outputs": [],
   "source": [
    "processed_reviews = [] # this list will contain dictionaries, eventually we will convert it to a Pandas DataFrame\n",
    "\n",
    "for sen in root.findall(\"sentence\"):\n",
    "    # this dictionary will store the columns we are interested in storing for our processed dataset\n",
    "    data_dict = {} \n",
    "\n",
    "    review = sen[0].text # assign the text review to this variable\n",
    "\n",
    "    if sen.find(\"aspectTerms\"): # if there exists aspect terms in review \n",
    "\n",
    "        # we make define these lists because a review can have multiple aspects\n",
    "        term_tokens = [] # slot 1 for value_container\n",
    "        term_pols = [] # slot 2 for value_container\n",
    "        \n",
    "        # Iterate through individual aspect terms and strip its polarity\n",
    "        for branch in sen.find(\"aspectTerms\").findall(\"aspectTerm\"):\n",
    "            term = branch.get(\"term\")\n",
    "            term_polarity = branch.get(\"polarity\")\n",
    "\n",
    "            term_tokens.append(term)\n",
    "            term_pols.append(term_polarity)\n",
    "\n",
    "    if sen.find(\"aspectCategories\"): # if there exists labeled categories \n",
    "\n",
    "        # We define these lists because a review can have multiple aspects\n",
    "        cat_tokens = [] # list of all of the labeled categories for the data\n",
    "        cat_pols = [] # list of the associated polarities\n",
    "\n",
    "        for branch in sen.find(\"aspectCategories\").findall(\"aspectCategory\"):\n",
    "            category = branch.get(\"category\")\n",
    "            cat_polarity = branch.get(\"polarity\")\n",
    "\n",
    "            cat_tokens.append(category)\n",
    "            cat_pols.append(cat_polarity)\n",
    "\n",
    "    # Start assigning the values we just mined to appropriate keys in data_dict\n",
    "    data_dict[\"Review ID\"] = sen.attrib[\"id\"]\n",
    "    data_dict[\"Review\"] = review\n",
    "    data_dict[\"Aspect Term\"] = term_tokens\n",
    "    data_dict[\"Aspect Polarity\"] = term_pols\n",
    "    data_dict[\"Aspect Count\"] = len(term_tokens)\n",
    "    data_dict[\"Category\"] = cat_tokens\n",
    "    data_dict[\"Category Polarity\"] = cat_pols\n",
    "    data_dict[\"Category Count\"] = len(cat_tokens)\n",
    "\n",
    "    # each element in the following list will be a row for our processed dataset\n",
    "    processed_reviews.append(data_dict) # append data_dict"
   ]
  },
  {
   "cell_type": "markdown",
   "metadata": {},
   "source": [
    "We will convert this list into a Pandas DataFrame for convenience and also save it as a pickled file"
   ]
  },
  {
   "cell_type": "code",
   "execution_count": 5,
   "metadata": {
    "collapsed": false
   },
   "outputs": [
    {
     "name": "stdout",
     "output_type": "stream",
     "text": [
      "Shape of Training data (3041, 8)\n"
     ]
    },
    {
     "data": {
      "text/html": [
       "<div>\n",
       "<style scoped>\n",
       "    .dataframe tbody tr th:only-of-type {\n",
       "        vertical-align: middle;\n",
       "    }\n",
       "\n",
       "    .dataframe tbody tr th {\n",
       "        vertical-align: top;\n",
       "    }\n",
       "\n",
       "    .dataframe thead th {\n",
       "        text-align: right;\n",
       "    }\n",
       "</style>\n",
       "<table border=\"1\" class=\"dataframe\">\n",
       "  <thead>\n",
       "    <tr style=\"text-align: right;\">\n",
       "      <th></th>\n",
       "      <th>Aspect Count</th>\n",
       "      <th>Aspect Polarity</th>\n",
       "      <th>Aspect Term</th>\n",
       "      <th>Category</th>\n",
       "      <th>Category Count</th>\n",
       "      <th>Category Polarity</th>\n",
       "      <th>Review</th>\n",
       "      <th>Review ID</th>\n",
       "    </tr>\n",
       "  </thead>\n",
       "  <tbody>\n",
       "    <tr>\n",
       "      <th>0</th>\n",
       "      <td>1</td>\n",
       "      <td>[negative]</td>\n",
       "      <td>[staff]</td>\n",
       "      <td>[service]</td>\n",
       "      <td>1</td>\n",
       "      <td>[negative]</td>\n",
       "      <td>But the staff was so horrible to us.</td>\n",
       "      <td>3121</td>\n",
       "    </tr>\n",
       "    <tr>\n",
       "      <th>1</th>\n",
       "      <td>1</td>\n",
       "      <td>[positive]</td>\n",
       "      <td>[food]</td>\n",
       "      <td>[food, anecdotes/miscellaneous]</td>\n",
       "      <td>2</td>\n",
       "      <td>[positive, negative]</td>\n",
       "      <td>To be completely fair, the only redeeming fact...</td>\n",
       "      <td>2777</td>\n",
       "    </tr>\n",
       "    <tr>\n",
       "      <th>2</th>\n",
       "      <td>3</td>\n",
       "      <td>[positive, positive, neutral]</td>\n",
       "      <td>[food, kitchen, menu]</td>\n",
       "      <td>[food]</td>\n",
       "      <td>1</td>\n",
       "      <td>[positive]</td>\n",
       "      <td>The food is uniformly exceptional, with a very...</td>\n",
       "      <td>1634</td>\n",
       "    </tr>\n",
       "  </tbody>\n",
       "</table>\n",
       "</div>"
      ],
      "text/plain": [
       "   Aspect Count                Aspect Polarity            Aspect Term  \\\n",
       "0             1                     [negative]                [staff]   \n",
       "1             1                     [positive]                 [food]   \n",
       "2             3  [positive, positive, neutral]  [food, kitchen, menu]   \n",
       "\n",
       "                          Category  Category Count     Category Polarity  \\\n",
       "0                        [service]               1            [negative]   \n",
       "1  [food, anecdotes/miscellaneous]               2  [positive, negative]   \n",
       "2                           [food]               1            [positive]   \n",
       "\n",
       "                                              Review Review ID  \n",
       "0               But the staff was so horrible to us.      3121  \n",
       "1  To be completely fair, the only redeeming fact...      2777  \n",
       "2  The food is uniformly exceptional, with a very...      1634  "
      ]
     },
     "execution_count": 5,
     "metadata": {},
     "output_type": "execute_result"
    }
   ],
   "source": [
    "reviews_pd = pd.DataFrame(processed_reviews)\n",
    "print(\"Shape of Training data\", reviews_pd.shape)\n",
    "reviews_pd.head(3)"
   ]
  },
  {
   "cell_type": "code",
   "execution_count": 6,
   "metadata": {
    "collapsed": false
   },
   "outputs": [],
   "source": [
    "# Save data as pickled file so we can read it in easily later\n",
    "reviews_pd.to_pickle(\"pickled_data/pickled_reviews_pd.pkl\")\n",
    "# test_pickle = pickle.load(open(\"pickled_reviews_pd.pkl\", \"rb\"))"
   ]
  },
  {
   "cell_type": "markdown",
   "metadata": {},
   "source": [
    "### Part II: Re-format Data\n",
    "\n",
    "In this next section, we process the dataframe to create a new one that is re-formatted to an aspect level instead of review level. In the previous dataframe the rows represented an entire review whereas now a row will represent an individual aspect term"
   ]
  },
  {
   "cell_type": "code",
   "execution_count": 7,
   "metadata": {
    "collapsed": true
   },
   "outputs": [],
   "source": [
    "aspects_terms_pd = reviews_pd[['Review', 'Review ID', 'Aspect Term', 'Aspect Polarity', 'Aspect Count']]\n",
    "\n",
    "aspects_data_list = []\n",
    "\n",
    "for row in aspects_terms_pd.itertuples():\n",
    "\n",
    "    terms_list = row[3]\n",
    "    pols_list = row[4]\n",
    "\n",
    "    # print(len(terms_list) == len(pols_list))\n",
    "\n",
    "    for i in range(len(terms_list)):\n",
    "        data_dict = {}\n",
    "\n",
    "        data_dict[\"Review ID\"] = row[2]\n",
    "        data_dict[\"Review\"] = row[1]\n",
    "\n",
    "        pol = pols_list[i]\n",
    "\n",
    "        if pol == \"conflict\":\n",
    "            pol = \"neutral\"\n",
    "\n",
    "        data_dict[\"Aspect Term\"] = terms_list[i]\n",
    "        data_dict[\"Aspect Polarity\"] = pol\n",
    "        data_dict[\"All Aspect Terms\"] = terms_list\n",
    "\n",
    "        aspects_data_list.append(data_dict)"
   ]
  },
  {
   "cell_type": "code",
   "execution_count": 8,
   "metadata": {
    "collapsed": true
   },
   "outputs": [],
   "source": [
    "# Convert to Pandas Data Frame for convenience\n",
    "aspect_terms_pd = pd.DataFrame(aspects_data_list)\n",
    "aspect_terms_pd = aspect_terms_pd[['Review', 'Review ID', 'Aspect Term', 'Aspect Polarity', 'All Aspect Terms']] # re-order"
   ]
  },
  {
   "cell_type": "code",
   "execution_count": 9,
   "metadata": {
    "collapsed": false
   },
   "outputs": [
    {
     "name": "stdout",
     "output_type": "stream",
     "text": [
      "Dimension:  (5474, 5)\n"
     ]
    },
    {
     "data": {
      "text/html": [
       "<div>\n",
       "<style scoped>\n",
       "    .dataframe tbody tr th:only-of-type {\n",
       "        vertical-align: middle;\n",
       "    }\n",
       "\n",
       "    .dataframe tbody tr th {\n",
       "        vertical-align: top;\n",
       "    }\n",
       "\n",
       "    .dataframe thead th {\n",
       "        text-align: right;\n",
       "    }\n",
       "</style>\n",
       "<table border=\"1\" class=\"dataframe\">\n",
       "  <thead>\n",
       "    <tr style=\"text-align: right;\">\n",
       "      <th></th>\n",
       "      <th>Review</th>\n",
       "      <th>Review ID</th>\n",
       "      <th>Aspect Term</th>\n",
       "      <th>Aspect Polarity</th>\n",
       "      <th>All Aspect Terms</th>\n",
       "    </tr>\n",
       "  </thead>\n",
       "  <tbody>\n",
       "    <tr>\n",
       "      <th>0</th>\n",
       "      <td>But the staff was so horrible to us.</td>\n",
       "      <td>3121</td>\n",
       "      <td>staff</td>\n",
       "      <td>negative</td>\n",
       "      <td>[staff]</td>\n",
       "    </tr>\n",
       "    <tr>\n",
       "      <th>1</th>\n",
       "      <td>To be completely fair, the only redeeming fact...</td>\n",
       "      <td>2777</td>\n",
       "      <td>food</td>\n",
       "      <td>positive</td>\n",
       "      <td>[food]</td>\n",
       "    </tr>\n",
       "    <tr>\n",
       "      <th>2</th>\n",
       "      <td>The food is uniformly exceptional, with a very...</td>\n",
       "      <td>1634</td>\n",
       "      <td>food</td>\n",
       "      <td>positive</td>\n",
       "      <td>[food, kitchen, menu]</td>\n",
       "    </tr>\n",
       "  </tbody>\n",
       "</table>\n",
       "</div>"
      ],
      "text/plain": [
       "                                              Review Review ID Aspect Term  \\\n",
       "0               But the staff was so horrible to us.      3121       staff   \n",
       "1  To be completely fair, the only redeeming fact...      2777        food   \n",
       "2  The food is uniformly exceptional, with a very...      1634        food   \n",
       "\n",
       "  Aspect Polarity       All Aspect Terms  \n",
       "0        negative                [staff]  \n",
       "1        positive                 [food]  \n",
       "2        positive  [food, kitchen, menu]  "
      ]
     },
     "execution_count": 9,
     "metadata": {},
     "output_type": "execute_result"
    }
   ],
   "source": [
    "print(\"Dimension: \", aspect_terms_pd.shape)\n",
    "aspect_terms_pd.head(3)"
   ]
  },
  {
   "cell_type": "markdown",
   "metadata": {},
   "source": [
    "Notice that the number of rows have changed. This means we have repeating reviews in this dataset and that's something we should keep in mind"
   ]
  },
  {
   "cell_type": "code",
   "execution_count": 10,
   "metadata": {
    "collapsed": false
   },
   "outputs": [],
   "source": [
    "## Save this as a pickled file also\n",
    "aspect_terms_pd.to_pickle(\"pickled_data/pickled_aspect_terms_pd.pkl\")"
   ]
  },
  {
   "cell_type": "markdown",
   "metadata": {},
   "source": [
    "### Data Summarization/Visualizations\n",
    "\n",
    "In this next section, we do some exploratory data summarization and visualizations"
   ]
  },
  {
   "cell_type": "markdown",
   "metadata": {},
   "source": [
    "We are done processing our training data. Move onto processing our test data (Please note that we processed the test data after we had trained our models using the training data and already did some feature engineering/parameter tuning etc.; we avoided looking at the test data until the very end)"
   ]
  },
  {
   "cell_type": "code",
   "execution_count": 11,
   "metadata": {
    "collapsed": false
   },
   "outputs": [],
   "source": [
    "import matplotlib\n",
    "from collections import Counter"
   ]
  },
  {
   "cell_type": "code",
   "execution_count": 12,
   "metadata": {
    "collapsed": false
   },
   "outputs": [
    {
     "data": {
      "text/plain": [
       "Counter({'ambience': 431,\n",
       "         'anecdotes/miscellaneous': 1132,\n",
       "         'food': 1232,\n",
       "         'price': 321,\n",
       "         'service': 597})"
      ]
     },
     "execution_count": 12,
     "metadata": {},
     "output_type": "execute_result"
    }
   ],
   "source": [
    "# Let's look at the distribution of the Aspect Categories first\n",
    "category_freq = []\n",
    "for cat in reviews_pd['Category']:\n",
    "    category_freq += cat\n",
    "category_freq = Counter(category_freq)\n",
    "category_freq"
   ]
  },
  {
   "cell_type": "markdown",
   "metadata": {},
   "source": [
    "It looks like we have 5 aspect categories (as claimed by SemEval) and the distribution looks about the same as well!"
   ]
  },
  {
   "cell_type": "code",
   "execution_count": 79,
   "metadata": {
    "collapsed": false
   },
   "outputs": [
    {
     "name": "stdout",
     "output_type": "stream",
     "text": [
      "There are  1288 unique terms in the training data\n"
     ]
    }
   ],
   "source": [
    "# Let's now look at the distribution of the Aspect Terms\n",
    "term_freq = Counter(aspect_terms_pd['Aspect Term'])\n",
    "print(\"There are \", len(term_freq.keys()), \"unique terms in the training data\")\n",
    "term_freq.most_common()[0:15]\n",
    "term_freq_top15_x = [tup[0] for tup in term_freq.most_common()[0:15]]\n",
    "term_freq_top15_y = [tup[1] for tup in term_freq.most_common()[0:15]]"
   ]
  },
  {
   "cell_type": "code",
   "execution_count": 25,
   "metadata": {
    "collapsed": false
   },
   "outputs": [],
   "source": [
    "import matplotlib.pyplot as plt\n",
    "import numpy as np"
   ]
  },
  {
   "cell_type": "code",
   "execution_count": 102,
   "metadata": {
    "collapsed": true
   },
   "outputs": [],
   "source": [
    "index = np.arange(len(category_freq.keys()))\n",
    "nums = category_freq.values()\n",
    "labels = category_freq.keys()"
   ]
  },
  {
   "cell_type": "code",
   "execution_count": 106,
   "metadata": {
    "collapsed": false
   },
   "outputs": [
    {
     "data": {
      "image/png": "[encoded data removed]",
      "text/plain": [
       "<Figure size 432x288 with 1 Axes>"
      ]
     },
     "metadata": {},
     "output_type": "display_data"
    }
   ],
   "source": [
    "plt.bar(index, nums)\n",
    "plt.bar(labels, nums, color='steelblue',  edgecolor='black')\n",
    "\n",
    "# add additional features to plot\n",
    "plt.title(\"Distribution of Aspect Categories in Training Data\")\n",
    "plt.ylabel(\"Occurence Count\", fontsize = 12)\n",
    "plt.xlabel(\"Aspect Categories\", fontsize = 12)\n",
    "plt.xticks(index, labels, fontsize=10, rotation=10)\n",
    "plt.show()"
   ]
  },
  {
   "cell_type": "markdown",
   "metadata": {},
   "source": [
    "Now we make a bar plot for the aspect terms"
   ]
  },
  {
   "cell_type": "code",
   "execution_count": 108,
   "metadata": {
    "collapsed": false
   },
   "outputs": [
    {
     "data": {
      "text/plain": [
       "Text(0.5,1,'Programming language usage')"
      ]
     },
     "execution_count": 108,
     "metadata": {},
     "output_type": "execute_result"
    }
   ],
   "source": [
    "index = np.arange(len(term_freq_top15_x)) # for the xticks\n",
    "index\n",
    "\n",
    "objects = ('Python', 'C++', 'Java', 'Perl', 'Scala', 'Lisp')\n",
    "y_pos = np.arange(len(objects))\n",
    "performance = [10,8,6,4,2,1]\n",
    " \n",
    "plt.barh(y_pos, performance, align='center', alpha=0.5)\n",
    "plt.yticks(y_pos, objects)\n",
    "plt.xlabel('Usage')\n",
    "plt.title('Programming language usage')"
   ]
  },
  {
   "cell_type": "code",
   "execution_count": 110,
   "metadata": {
    "collapsed": false
   },
   "outputs": [
    {
     "data": {
      "image/png": "[encoded data removed]",
      "text/plain": [
       "<Figure size 432x288 with 1 Axes>"
      ]
     },
     "metadata": {},
     "output_type": "display_data"
    }
   ],
   "source": [
    "plt.barh(index, term_freq_top15_y,\n",
    "         color='steelblue',  edgecolor='black')\n",
    "plt.yticks(index, term_freq_top15_x, fontsize = 10)\n",
    "plt.title(\"Distribution of Top 15 Aspect Terms in Training Data\")\n",
    "plt.ylabel(\"Aspect Terms\", fontsize = 12)\n",
    "plt.xlabel(\"Occurence Count\", fontsize = 12)\n",
    "plt.show()"
   ]
  },
  {
   "cell_type": "markdown",
   "metadata": {},
   "source": [
    "#### Let's look at the Polarity Distribution next\n",
    "We can just look at the counts of the positive, negative, and neutral sentiments in the category polarity column of our reviews_pd dataframe"
   ]
  },
  {
   "cell_type": "code",
   "execution_count": 113,
   "metadata": {
    "collapsed": false
   },
   "outputs": [
    {
     "data": {
      "text/plain": [
       "Counter({'conflict': 195, 'negative': 839, 'neutral': 500, 'positive': 2179})"
      ]
     },
     "execution_count": 113,
     "metadata": {},
     "output_type": "execute_result"
    }
   ],
   "source": [
    "# Let's look at the distribution of the Aspect Categories first\n",
    "category_freq = []\n",
    "for cat in reviews_pd['Category Polarity']:\n",
    "    category_freq += cat\n",
    "category_freq = Counter(category_freq)\n",
    "category_freq\n",
    "\n",
    "# 500 + 195"
   ]
  }
 ],
 "metadata": {
  "anaconda-cloud": {},
  "kernelspec": {
   "display_name": "Python [conda env:Anaconda3]",
   "language": "python",
   "name": "conda-env-Anaconda3-py"
  },
  "language_info": {
   "codemirror_mode": {
    "name": "ipython",
    "version": 3
   },
   "file_extension": ".py",
   "mimetype": "text/x-python",
   "name": "python",
   "nbconvert_exporter": "python",
   "pygments_lexer": "ipython3",
   "version": "3.5.6"
  }
 },
 "nbformat": 4,
 "nbformat_minor": 2
}
