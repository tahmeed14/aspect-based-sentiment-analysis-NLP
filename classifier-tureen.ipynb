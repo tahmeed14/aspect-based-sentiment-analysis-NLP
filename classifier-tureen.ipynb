{
 "cells": [
  {
   "cell_type": "code",
   "execution_count": 1,
   "metadata": {
    "collapsed": true
   },
   "outputs": [],
   "source": [
    "import pandas as pd\n",
    "\n",
    "import spacy\n",
    "from spacy import displacy"
   ]
  },
  {
   "cell_type": "code",
   "execution_count": 2,
   "metadata": {
    "collapsed": true
   },
   "outputs": [],
   "source": [
    "# my_spacy = spacy.load(\"en\")\n",
    "my_spacy = spacy.load(\"en_core_web_md\") # load up spaCy"
   ]
  },
  {
   "cell_type": "code",
   "execution_count": 3,
   "metadata": {
    "collapsed": false
   },
   "outputs": [],
   "source": [
    "# test if my_spacy works first\n",
    "random_sentence = \"The pasta was great, but the waiter was rude!\"\n",
    "random_sen_spacy = my_spacy(random_sentence)"
   ]
  },
  {
   "cell_type": "code",
   "execution_count": 4,
   "metadata": {
    "collapsed": false
   },
   "outputs": [],
   "source": [
    "# Positive and Negative Adjectives (courtesy of Liu B.)\n",
    "\n",
    "# Negative Adjectives\n",
    "neg_lexicons = open('opinion_lexicons/negative_words.txt')\n",
    "neg_words = []\n",
    "\n",
    "for word in neg_lexicons:\n",
    "    neg_words.append(word.strip())\n",
    "\n",
    "# Positive Adjectives\n",
    "pos_lexicons = open('opinion_lexicons/positve_words.txt')\n",
    "pos_words = []\n",
    "\n",
    "for word in pos_lexicons:\n",
    "    pos_words.append(word.strip())"
   ]
  },
  {
   "cell_type": "code",
   "execution_count": 5,
   "metadata": {
    "collapsed": false
   },
   "outputs": [
    {
     "data": {
      "text/plain": [
       "6790"
      ]
     },
     "execution_count": 5,
     "metadata": {},
     "output_type": "execute_result"
    }
   ],
   "source": [
    "len(pos_words) + len(neg_words)"
   ]
  },
  {
   "cell_type": "code",
   "execution_count": 6,
   "metadata": {
    "collapsed": false
   },
   "outputs": [
    {
     "data": {
      "text/html": [
       "<div>\n",
       "<style scoped>\n",
       "    .dataframe tbody tr th:only-of-type {\n",
       "        vertical-align: middle;\n",
       "    }\n",
       "\n",
       "    .dataframe tbody tr th {\n",
       "        vertical-align: top;\n",
       "    }\n",
       "\n",
       "    .dataframe thead th {\n",
       "        text-align: right;\n",
       "    }\n",
       "</style>\n",
       "<table border=\"1\" class=\"dataframe\">\n",
       "  <thead>\n",
       "    <tr style=\"text-align: right;\">\n",
       "      <th></th>\n",
       "      <th>Aspect Count</th>\n",
       "      <th>Aspect Polarity</th>\n",
       "      <th>Aspect Term</th>\n",
       "      <th>Category</th>\n",
       "      <th>Category Count</th>\n",
       "      <th>Category Polarity</th>\n",
       "      <th>Review</th>\n",
       "      <th>Review ID</th>\n",
       "    </tr>\n",
       "  </thead>\n",
       "  <tbody>\n",
       "    <tr>\n",
       "      <th>0</th>\n",
       "      <td>1</td>\n",
       "      <td>[negative]</td>\n",
       "      <td>[staff]</td>\n",
       "      <td>[service]</td>\n",
       "      <td>1</td>\n",
       "      <td>[negative]</td>\n",
       "      <td>But the staff was so horrible to us.</td>\n",
       "      <td>3121</td>\n",
       "    </tr>\n",
       "    <tr>\n",
       "      <th>1</th>\n",
       "      <td>1</td>\n",
       "      <td>[positive]</td>\n",
       "      <td>[food]</td>\n",
       "      <td>[food, anecdotes/miscellaneous]</td>\n",
       "      <td>2</td>\n",
       "      <td>[positive, negative]</td>\n",
       "      <td>To be completely fair, the only redeeming fact...</td>\n",
       "      <td>2777</td>\n",
       "    </tr>\n",
       "    <tr>\n",
       "      <th>2</th>\n",
       "      <td>3</td>\n",
       "      <td>[positive, positive, neutral]</td>\n",
       "      <td>[food, kitchen, menu]</td>\n",
       "      <td>[food]</td>\n",
       "      <td>1</td>\n",
       "      <td>[positive]</td>\n",
       "      <td>The food is uniformly exceptional, with a very...</td>\n",
       "      <td>1634</td>\n",
       "    </tr>\n",
       "  </tbody>\n",
       "</table>\n",
       "</div>"
      ],
      "text/plain": [
       "   Aspect Count                Aspect Polarity            Aspect Term  \\\n",
       "0             1                     [negative]                [staff]   \n",
       "1             1                     [positive]                 [food]   \n",
       "2             3  [positive, positive, neutral]  [food, kitchen, menu]   \n",
       "\n",
       "                          Category  Category Count     Category Polarity  \\\n",
       "0                        [service]               1            [negative]   \n",
       "1  [food, anecdotes/miscellaneous]               2  [positive, negative]   \n",
       "2                           [food]               1            [positive]   \n",
       "\n",
       "                                              Review Review ID  \n",
       "0               But the staff was so horrible to us.      3121  \n",
       "1  To be completely fair, the only redeeming fact...      2777  \n",
       "2  The food is uniformly exceptional, with a very...      1634  "
      ]
     },
     "execution_count": 6,
     "metadata": {},
     "output_type": "execute_result"
    }
   ],
   "source": [
    "## read in pickled pandas data\n",
    "import pickle\n",
    "\n",
    "reviews_pd = pickle.load(open(\"pickled_data/pickled_reviews_pd.pkl\", \"rb\"))\n",
    "reviews_pd.head(3)"
   ]
  },
  {
   "cell_type": "code",
   "execution_count": 7,
   "metadata": {
    "collapsed": false
   },
   "outputs": [
    {
     "data": {
      "text/html": [
       "<div>\n",
       "<style scoped>\n",
       "    .dataframe tbody tr th:only-of-type {\n",
       "        vertical-align: middle;\n",
       "    }\n",
       "\n",
       "    .dataframe tbody tr th {\n",
       "        vertical-align: top;\n",
       "    }\n",
       "\n",
       "    .dataframe thead th {\n",
       "        text-align: right;\n",
       "    }\n",
       "</style>\n",
       "<table border=\"1\" class=\"dataframe\">\n",
       "  <thead>\n",
       "    <tr style=\"text-align: right;\">\n",
       "      <th></th>\n",
       "      <th>Aspect Count</th>\n",
       "      <th>Aspect Polarity</th>\n",
       "      <th>Aspect Term</th>\n",
       "      <th>Category</th>\n",
       "      <th>Category Count</th>\n",
       "      <th>Category Polarity</th>\n",
       "      <th>Review</th>\n",
       "      <th>Review ID</th>\n",
       "    </tr>\n",
       "  </thead>\n",
       "  <tbody>\n",
       "    <tr>\n",
       "      <th>0</th>\n",
       "      <td>1</td>\n",
       "      <td>[negative]</td>\n",
       "      <td>[staff]</td>\n",
       "      <td>[service]</td>\n",
       "      <td>1</td>\n",
       "      <td>[negative]</td>\n",
       "      <td>But the staff was so horrible to us.</td>\n",
       "      <td>3121</td>\n",
       "    </tr>\n",
       "    <tr>\n",
       "      <th>1</th>\n",
       "      <td>1</td>\n",
       "      <td>[positive]</td>\n",
       "      <td>[food]</td>\n",
       "      <td>[food, anecdotes/miscellaneous]</td>\n",
       "      <td>2</td>\n",
       "      <td>[positive, negative]</td>\n",
       "      <td>To be completely fair, the only redeeming fact...</td>\n",
       "      <td>2777</td>\n",
       "    </tr>\n",
       "    <tr>\n",
       "      <th>2</th>\n",
       "      <td>3</td>\n",
       "      <td>[positive, positive, neutral]</td>\n",
       "      <td>[food, kitchen, menu]</td>\n",
       "      <td>[food]</td>\n",
       "      <td>1</td>\n",
       "      <td>[positive]</td>\n",
       "      <td>The food is uniformly exceptional, with a very...</td>\n",
       "      <td>1634</td>\n",
       "    </tr>\n",
       "    <tr>\n",
       "      <th>3</th>\n",
       "      <td>3</td>\n",
       "      <td>[positive, positive, neutral]</td>\n",
       "      <td>[food, kitchen, menu]</td>\n",
       "      <td>[service]</td>\n",
       "      <td>1</td>\n",
       "      <td>[positive]</td>\n",
       "      <td>Where Gabriela personaly greets you and recomm...</td>\n",
       "      <td>2534</td>\n",
       "    </tr>\n",
       "    <tr>\n",
       "      <th>4</th>\n",
       "      <td>3</td>\n",
       "      <td>[positive, positive, neutral]</td>\n",
       "      <td>[food, kitchen, menu]</td>\n",
       "      <td>[anecdotes/miscellaneous]</td>\n",
       "      <td>1</td>\n",
       "      <td>[positive]</td>\n",
       "      <td>For those that go once and don't enjoy it, all...</td>\n",
       "      <td>583</td>\n",
       "    </tr>\n",
       "    <tr>\n",
       "      <th>5</th>\n",
       "      <td>2</td>\n",
       "      <td>[positive, positive]</td>\n",
       "      <td>[food, perks]</td>\n",
       "      <td>[food, service]</td>\n",
       "      <td>2</td>\n",
       "      <td>[positive, positive]</td>\n",
       "      <td>Not only was the food outstanding, but the lit...</td>\n",
       "      <td>2846</td>\n",
       "    </tr>\n",
       "    <tr>\n",
       "      <th>6</th>\n",
       "      <td>2</td>\n",
       "      <td>[positive, positive]</td>\n",
       "      <td>[food, perks]</td>\n",
       "      <td>[food, price]</td>\n",
       "      <td>2</td>\n",
       "      <td>[negative, negative]</td>\n",
       "      <td>It is very overpriced and not very tasty.</td>\n",
       "      <td>1571</td>\n",
       "    </tr>\n",
       "    <tr>\n",
       "      <th>7</th>\n",
       "      <td>4</td>\n",
       "      <td>[positive, positive, neutral, neutral]</td>\n",
       "      <td>[orrechiete with sausage and chicken, waiters,...</td>\n",
       "      <td>[food, service]</td>\n",
       "      <td>2</td>\n",
       "      <td>[positive, positive]</td>\n",
       "      <td>Our agreed favorite is the orrechiete with sau...</td>\n",
       "      <td>1458</td>\n",
       "    </tr>\n",
       "    <tr>\n",
       "      <th>8</th>\n",
       "      <td>1</td>\n",
       "      <td>[positive]</td>\n",
       "      <td>[Bagels]</td>\n",
       "      <td>[food]</td>\n",
       "      <td>1</td>\n",
       "      <td>[positive]</td>\n",
       "      <td>The Bagels have an outstanding taste with a te...</td>\n",
       "      <td>3161</td>\n",
       "    </tr>\n",
       "    <tr>\n",
       "      <th>9</th>\n",
       "      <td>1</td>\n",
       "      <td>[positive]</td>\n",
       "      <td>[food]</td>\n",
       "      <td>[food]</td>\n",
       "      <td>1</td>\n",
       "      <td>[positive]</td>\n",
       "      <td>Nevertheless the food itself is pretty good.</td>\n",
       "      <td>2391</td>\n",
       "    </tr>\n",
       "    <tr>\n",
       "      <th>10</th>\n",
       "      <td>7</td>\n",
       "      <td>[negative, negative, negative, neutral, negati...</td>\n",
       "      <td>[toast, mayonnaise, bacon, cheese, ingredients...</td>\n",
       "      <td>[food]</td>\n",
       "      <td>1</td>\n",
       "      <td>[negative]</td>\n",
       "      <td>They did not have mayonnaise, forgot our toast...</td>\n",
       "      <td>296</td>\n",
       "    </tr>\n",
       "    <tr>\n",
       "      <th>11</th>\n",
       "      <td>2</td>\n",
       "      <td>[neutral, neutral]</td>\n",
       "      <td>[drinks, check]</td>\n",
       "      <td>[service]</td>\n",
       "      <td>1</td>\n",
       "      <td>[conflict]</td>\n",
       "      <td>It took half an hour to get our check, which w...</td>\n",
       "      <td>1793</td>\n",
       "    </tr>\n",
       "    <tr>\n",
       "      <th>12</th>\n",
       "      <td>2</td>\n",
       "      <td>[positive, positive]</td>\n",
       "      <td>[design, atmosphere]</td>\n",
       "      <td>[ambience]</td>\n",
       "      <td>1</td>\n",
       "      <td>[positive]</td>\n",
       "      <td>The design and atmosphere is just as good.</td>\n",
       "      <td>2200</td>\n",
       "    </tr>\n",
       "    <tr>\n",
       "      <th>13</th>\n",
       "      <td>1</td>\n",
       "      <td>[positive]</td>\n",
       "      <td>[cuisine]</td>\n",
       "      <td>[food]</td>\n",
       "      <td>1</td>\n",
       "      <td>[positive]</td>\n",
       "      <td>He has visited Thailand and is quite expert on...</td>\n",
       "      <td>3195</td>\n",
       "    </tr>\n",
       "    <tr>\n",
       "      <th>14</th>\n",
       "      <td>1</td>\n",
       "      <td>[positive]</td>\n",
       "      <td>[cuisine]</td>\n",
       "      <td>[anecdotes/miscellaneous]</td>\n",
       "      <td>1</td>\n",
       "      <td>[positive]</td>\n",
       "      <td>I would definitely recommend Mary's and am mak...</td>\n",
       "      <td>3119</td>\n",
       "    </tr>\n",
       "  </tbody>\n",
       "</table>\n",
       "</div>"
      ],
      "text/plain": [
       "    Aspect Count                                    Aspect Polarity  \\\n",
       "0              1                                         [negative]   \n",
       "1              1                                         [positive]   \n",
       "2              3                      [positive, positive, neutral]   \n",
       "3              3                      [positive, positive, neutral]   \n",
       "4              3                      [positive, positive, neutral]   \n",
       "5              2                               [positive, positive]   \n",
       "6              2                               [positive, positive]   \n",
       "7              4             [positive, positive, neutral, neutral]   \n",
       "8              1                                         [positive]   \n",
       "9              1                                         [positive]   \n",
       "10             7  [negative, negative, negative, neutral, negati...   \n",
       "11             2                                 [neutral, neutral]   \n",
       "12             2                               [positive, positive]   \n",
       "13             1                                         [positive]   \n",
       "14             1                                         [positive]   \n",
       "\n",
       "                                          Aspect Term  \\\n",
       "0                                             [staff]   \n",
       "1                                              [food]   \n",
       "2                               [food, kitchen, menu]   \n",
       "3                               [food, kitchen, menu]   \n",
       "4                               [food, kitchen, menu]   \n",
       "5                                       [food, perks]   \n",
       "6                                       [food, perks]   \n",
       "7   [orrechiete with sausage and chicken, waiters,...   \n",
       "8                                            [Bagels]   \n",
       "9                                              [food]   \n",
       "10  [toast, mayonnaise, bacon, cheese, ingredients...   \n",
       "11                                    [drinks, check]   \n",
       "12                               [design, atmosphere]   \n",
       "13                                          [cuisine]   \n",
       "14                                          [cuisine]   \n",
       "\n",
       "                           Category  Category Count     Category Polarity  \\\n",
       "0                         [service]               1            [negative]   \n",
       "1   [food, anecdotes/miscellaneous]               2  [positive, negative]   \n",
       "2                            [food]               1            [positive]   \n",
       "3                         [service]               1            [positive]   \n",
       "4         [anecdotes/miscellaneous]               1            [positive]   \n",
       "5                   [food, service]               2  [positive, positive]   \n",
       "6                     [food, price]               2  [negative, negative]   \n",
       "7                   [food, service]               2  [positive, positive]   \n",
       "8                            [food]               1            [positive]   \n",
       "9                            [food]               1            [positive]   \n",
       "10                           [food]               1            [negative]   \n",
       "11                        [service]               1            [conflict]   \n",
       "12                       [ambience]               1            [positive]   \n",
       "13                           [food]               1            [positive]   \n",
       "14        [anecdotes/miscellaneous]               1            [positive]   \n",
       "\n",
       "                                               Review Review ID  \n",
       "0                But the staff was so horrible to us.      3121  \n",
       "1   To be completely fair, the only redeeming fact...      2777  \n",
       "2   The food is uniformly exceptional, with a very...      1634  \n",
       "3   Where Gabriela personaly greets you and recomm...      2534  \n",
       "4   For those that go once and don't enjoy it, all...       583  \n",
       "5   Not only was the food outstanding, but the lit...      2846  \n",
       "6           It is very overpriced and not very tasty.      1571  \n",
       "7   Our agreed favorite is the orrechiete with sau...      1458  \n",
       "8   The Bagels have an outstanding taste with a te...      3161  \n",
       "9        Nevertheless the food itself is pretty good.      2391  \n",
       "10  They did not have mayonnaise, forgot our toast...       296  \n",
       "11  It took half an hour to get our check, which w...      1793  \n",
       "12         The design and atmosphere is just as good.      2200  \n",
       "13  He has visited Thailand and is quite expert on...      3195  \n",
       "14  I would definitely recommend Mary's and am mak...      3119  "
      ]
     },
     "execution_count": 7,
     "metadata": {},
     "output_type": "execute_result"
    }
   ],
   "source": [
    "subset = reviews_pd.iloc[0:15,]\n",
    "subset"
   ]
  },
  {
   "cell_type": "code",
   "execution_count": 8,
   "metadata": {
    "collapsed": true
   },
   "outputs": [],
   "source": [
    "# "
   ]
  },
  {
   "cell_type": "code",
   "execution_count": 9,
   "metadata": {
    "collapsed": false
   },
   "outputs": [],
   "source": [
    "absa_classifier_unsupervised = []\n",
    "\n",
    "for row in reviews_pd.itertuples():\n",
    "\n",
    "    data_dict = {}\n",
    "    review = row[7]\n",
    "    #print(review)\n",
    "    data_dict[\"Review\"] = review\n",
    "    \n",
    "    # convert review to spaCy object\n",
    "    review_spaCy = my_spacy(review)\n",
    "#     print()\n",
    "#     for tok in review_spaCy:\n",
    "#         print(tok.text, tok.pos_, tok.dep_)\n",
    "    \n",
    "    asp_terms = []\n",
    "    asp_pols = []\n",
    "    \n",
    "    for token in review_spaCy:\n",
    "        if (token.pos_ == \"NOUN\"):\n",
    "            asp_terms.append(token.text)\n",
    "        if (token.dep_ == \"acomp\" or token.dep_ == \"amod\"):\n",
    "            if (token.text in pos_words):\n",
    "                asp_pols.append(\"positive\")\n",
    "            elif (token.text in neg_words):\n",
    "                asp_pols.append(\"negative\")\n",
    "            else:\n",
    "                asp_pols.append(\"neutral\")\n",
    "    data_dict[\"Aspect Term\"] = asp_terms\n",
    "    data_dict[\"Aspect Polarity\"] = asp_pols\n",
    "    \n",
    "    absa_classifier_unsupervised.append(data_dict)"
   ]
  },
  {
   "cell_type": "code",
   "execution_count": null,
   "metadata": {
    "collapsed": false
   },
   "outputs": [],
   "source": []
  },
  {
   "cell_type": "code",
   "execution_count": 10,
   "metadata": {
    "collapsed": false
   },
   "outputs": [
    {
     "data": {
      "text/html": [
       "<div>\n",
       "<style scoped>\n",
       "    .dataframe tbody tr th:only-of-type {\n",
       "        vertical-align: middle;\n",
       "    }\n",
       "\n",
       "    .dataframe tbody tr th {\n",
       "        vertical-align: top;\n",
       "    }\n",
       "\n",
       "    .dataframe thead th {\n",
       "        text-align: right;\n",
       "    }\n",
       "</style>\n",
       "<table border=\"1\" class=\"dataframe\">\n",
       "  <thead>\n",
       "    <tr style=\"text-align: right;\">\n",
       "      <th></th>\n",
       "      <th>Aspect Polarity</th>\n",
       "      <th>Aspect Term</th>\n",
       "      <th>Review</th>\n",
       "    </tr>\n",
       "  </thead>\n",
       "  <tbody>\n",
       "    <tr>\n",
       "      <th>0</th>\n",
       "      <td>[negative]</td>\n",
       "      <td>[staff]</td>\n",
       "      <td>But the staff was so horrible to us.</td>\n",
       "    </tr>\n",
       "    <tr>\n",
       "      <th>1</th>\n",
       "      <td>[positive, positive, neutral, neutral]</td>\n",
       "      <td>[factor, food, deficiencies]</td>\n",
       "      <td>To be completely fair, the only redeeming fact...</td>\n",
       "    </tr>\n",
       "    <tr>\n",
       "      <th>2</th>\n",
       "      <td>[positive, positive]</td>\n",
       "      <td>[food, kitchen, menu]</td>\n",
       "      <td>The food is uniformly exceptional, with a very...</td>\n",
       "    </tr>\n",
       "    <tr>\n",
       "      <th>3</th>\n",
       "      <td>[]</td>\n",
       "      <td>[what]</td>\n",
       "      <td>Where Gabriela personaly greets you and recomm...</td>\n",
       "    </tr>\n",
       "    <tr>\n",
       "      <th>4</th>\n",
       "      <td>[]</td>\n",
       "      <td>[]</td>\n",
       "      <td>For those that go once and don't enjoy it, all...</td>\n",
       "    </tr>\n",
       "    <tr>\n",
       "      <th>5</th>\n",
       "      <td>[positive, neutral, positive]</td>\n",
       "      <td>[food, perks]</td>\n",
       "      <td>Not only was the food outstanding, but the lit...</td>\n",
       "    </tr>\n",
       "    <tr>\n",
       "      <th>6</th>\n",
       "      <td>[negative]</td>\n",
       "      <td>[]</td>\n",
       "      <td>It is very overpriced and not very tasty.</td>\n",
       "    </tr>\n",
       "    <tr>\n",
       "      <th>7</th>\n",
       "      <td>[neutral, positive]</td>\n",
       "      <td>[favorite, orrechiete, sausage, chicken, waite...</td>\n",
       "      <td>Our agreed favorite is the orrechiete with sau...</td>\n",
       "    </tr>\n",
       "    <tr>\n",
       "      <th>8</th>\n",
       "      <td>[positive, positive]</td>\n",
       "      <td>[Bagels, taste, texture]</td>\n",
       "      <td>The Bagels have an outstanding taste with a te...</td>\n",
       "    </tr>\n",
       "    <tr>\n",
       "      <th>9</th>\n",
       "      <td>[positive]</td>\n",
       "      <td>[food]</td>\n",
       "      <td>Nevertheless the food itself is pretty good.</td>\n",
       "    </tr>\n",
       "    <tr>\n",
       "      <th>10</th>\n",
       "      <td>[positive, neutral]</td>\n",
       "      <td>[mayonnaise, toast, ingredients, cheese, omele...</td>\n",
       "      <td>They did not have mayonnaise, forgot our toast...</td>\n",
       "    </tr>\n",
       "    <tr>\n",
       "      <th>11</th>\n",
       "      <td>[positive]</td>\n",
       "      <td>[hour, check, drinks]</td>\n",
       "      <td>It took half an hour to get our check, which w...</td>\n",
       "    </tr>\n",
       "    <tr>\n",
       "      <th>12</th>\n",
       "      <td>[positive]</td>\n",
       "      <td>[design, atmosphere]</td>\n",
       "      <td>The design and atmosphere is just as good.</td>\n",
       "    </tr>\n",
       "    <tr>\n",
       "      <th>13</th>\n",
       "      <td>[]</td>\n",
       "      <td>[cuisine]</td>\n",
       "      <td>He has visited Thailand and is quite expert on...</td>\n",
       "    </tr>\n",
       "    <tr>\n",
       "      <th>14</th>\n",
       "      <td>[neutral]</td>\n",
       "      <td>[neighborhood, haunts]</td>\n",
       "      <td>I would definitely recommend Mary's and am mak...</td>\n",
       "    </tr>\n",
       "  </tbody>\n",
       "</table>\n",
       "</div>"
      ],
      "text/plain": [
       "                           Aspect Polarity  \\\n",
       "0                               [negative]   \n",
       "1   [positive, positive, neutral, neutral]   \n",
       "2                     [positive, positive]   \n",
       "3                                       []   \n",
       "4                                       []   \n",
       "5            [positive, neutral, positive]   \n",
       "6                               [negative]   \n",
       "7                      [neutral, positive]   \n",
       "8                     [positive, positive]   \n",
       "9                               [positive]   \n",
       "10                     [positive, neutral]   \n",
       "11                              [positive]   \n",
       "12                              [positive]   \n",
       "13                                      []   \n",
       "14                               [neutral]   \n",
       "\n",
       "                                          Aspect Term  \\\n",
       "0                                             [staff]   \n",
       "1                        [factor, food, deficiencies]   \n",
       "2                               [food, kitchen, menu]   \n",
       "3                                              [what]   \n",
       "4                                                  []   \n",
       "5                                       [food, perks]   \n",
       "6                                                  []   \n",
       "7   [favorite, orrechiete, sausage, chicken, waite...   \n",
       "8                            [Bagels, taste, texture]   \n",
       "9                                              [food]   \n",
       "10  [mayonnaise, toast, ingredients, cheese, omele...   \n",
       "11                              [hour, check, drinks]   \n",
       "12                               [design, atmosphere]   \n",
       "13                                          [cuisine]   \n",
       "14                             [neighborhood, haunts]   \n",
       "\n",
       "                                               Review  \n",
       "0                But the staff was so horrible to us.  \n",
       "1   To be completely fair, the only redeeming fact...  \n",
       "2   The food is uniformly exceptional, with a very...  \n",
       "3   Where Gabriela personaly greets you and recomm...  \n",
       "4   For those that go once and don't enjoy it, all...  \n",
       "5   Not only was the food outstanding, but the lit...  \n",
       "6           It is very overpriced and not very tasty.  \n",
       "7   Our agreed favorite is the orrechiete with sau...  \n",
       "8   The Bagels have an outstanding taste with a te...  \n",
       "9        Nevertheless the food itself is pretty good.  \n",
       "10  They did not have mayonnaise, forgot our toast...  \n",
       "11  It took half an hour to get our check, which w...  \n",
       "12         The design and atmosphere is just as good.  \n",
       "13  He has visited Thailand and is quite expert on...  \n",
       "14  I would definitely recommend Mary's and am mak...  "
      ]
     },
     "execution_count": 10,
     "metadata": {},
     "output_type": "execute_result"
    }
   ],
   "source": [
    "classifier_pd = pd.DataFrame(absa_classifier_unsupervised)\n",
    "classifier_pd.head(15)"
   ]
  },
  {
   "cell_type": "code",
   "execution_count": 11,
   "metadata": {
    "collapsed": false
   },
   "outputs": [
    {
     "data": {
      "text/html": [
       "<div>\n",
       "<style scoped>\n",
       "    .dataframe tbody tr th:only-of-type {\n",
       "        vertical-align: middle;\n",
       "    }\n",
       "\n",
       "    .dataframe tbody tr th {\n",
       "        vertical-align: top;\n",
       "    }\n",
       "\n",
       "    .dataframe thead th {\n",
       "        text-align: right;\n",
       "    }\n",
       "</style>\n",
       "<table border=\"1\" class=\"dataframe\">\n",
       "  <thead>\n",
       "    <tr style=\"text-align: right;\">\n",
       "      <th></th>\n",
       "      <th>Aspect Count</th>\n",
       "      <th>Aspect Polarity</th>\n",
       "      <th>Aspect Term</th>\n",
       "      <th>Category</th>\n",
       "      <th>Category Count</th>\n",
       "      <th>Category Polarity</th>\n",
       "      <th>Review</th>\n",
       "      <th>Review ID</th>\n",
       "    </tr>\n",
       "  </thead>\n",
       "  <tbody>\n",
       "    <tr>\n",
       "      <th>0</th>\n",
       "      <td>1</td>\n",
       "      <td>[negative]</td>\n",
       "      <td>[staff]</td>\n",
       "      <td>[service]</td>\n",
       "      <td>1</td>\n",
       "      <td>[negative]</td>\n",
       "      <td>But the staff was so horrible to us.</td>\n",
       "      <td>3121</td>\n",
       "    </tr>\n",
       "    <tr>\n",
       "      <th>1</th>\n",
       "      <td>1</td>\n",
       "      <td>[positive]</td>\n",
       "      <td>[food]</td>\n",
       "      <td>[food, anecdotes/miscellaneous]</td>\n",
       "      <td>2</td>\n",
       "      <td>[positive, negative]</td>\n",
       "      <td>To be completely fair, the only redeeming fact...</td>\n",
       "      <td>2777</td>\n",
       "    </tr>\n",
       "    <tr>\n",
       "      <th>2</th>\n",
       "      <td>3</td>\n",
       "      <td>[positive, positive, neutral]</td>\n",
       "      <td>[food, kitchen, menu]</td>\n",
       "      <td>[food]</td>\n",
       "      <td>1</td>\n",
       "      <td>[positive]</td>\n",
       "      <td>The food is uniformly exceptional, with a very...</td>\n",
       "      <td>1634</td>\n",
       "    </tr>\n",
       "    <tr>\n",
       "      <th>3</th>\n",
       "      <td>3</td>\n",
       "      <td>[positive, positive, neutral]</td>\n",
       "      <td>[food, kitchen, menu]</td>\n",
       "      <td>[service]</td>\n",
       "      <td>1</td>\n",
       "      <td>[positive]</td>\n",
       "      <td>Where Gabriela personaly greets you and recomm...</td>\n",
       "      <td>2534</td>\n",
       "    </tr>\n",
       "    <tr>\n",
       "      <th>4</th>\n",
       "      <td>3</td>\n",
       "      <td>[positive, positive, neutral]</td>\n",
       "      <td>[food, kitchen, menu]</td>\n",
       "      <td>[anecdotes/miscellaneous]</td>\n",
       "      <td>1</td>\n",
       "      <td>[positive]</td>\n",
       "      <td>For those that go once and don't enjoy it, all...</td>\n",
       "      <td>583</td>\n",
       "    </tr>\n",
       "    <tr>\n",
       "      <th>5</th>\n",
       "      <td>2</td>\n",
       "      <td>[positive, positive]</td>\n",
       "      <td>[food, perks]</td>\n",
       "      <td>[food, service]</td>\n",
       "      <td>2</td>\n",
       "      <td>[positive, positive]</td>\n",
       "      <td>Not only was the food outstanding, but the lit...</td>\n",
       "      <td>2846</td>\n",
       "    </tr>\n",
       "    <tr>\n",
       "      <th>6</th>\n",
       "      <td>2</td>\n",
       "      <td>[positive, positive]</td>\n",
       "      <td>[food, perks]</td>\n",
       "      <td>[food, price]</td>\n",
       "      <td>2</td>\n",
       "      <td>[negative, negative]</td>\n",
       "      <td>It is very overpriced and not very tasty.</td>\n",
       "      <td>1571</td>\n",
       "    </tr>\n",
       "    <tr>\n",
       "      <th>7</th>\n",
       "      <td>4</td>\n",
       "      <td>[positive, positive, neutral, neutral]</td>\n",
       "      <td>[orrechiete with sausage and chicken, waiters,...</td>\n",
       "      <td>[food, service]</td>\n",
       "      <td>2</td>\n",
       "      <td>[positive, positive]</td>\n",
       "      <td>Our agreed favorite is the orrechiete with sau...</td>\n",
       "      <td>1458</td>\n",
       "    </tr>\n",
       "    <tr>\n",
       "      <th>8</th>\n",
       "      <td>1</td>\n",
       "      <td>[positive]</td>\n",
       "      <td>[Bagels]</td>\n",
       "      <td>[food]</td>\n",
       "      <td>1</td>\n",
       "      <td>[positive]</td>\n",
       "      <td>The Bagels have an outstanding taste with a te...</td>\n",
       "      <td>3161</td>\n",
       "    </tr>\n",
       "    <tr>\n",
       "      <th>9</th>\n",
       "      <td>1</td>\n",
       "      <td>[positive]</td>\n",
       "      <td>[food]</td>\n",
       "      <td>[food]</td>\n",
       "      <td>1</td>\n",
       "      <td>[positive]</td>\n",
       "      <td>Nevertheless the food itself is pretty good.</td>\n",
       "      <td>2391</td>\n",
       "    </tr>\n",
       "    <tr>\n",
       "      <th>10</th>\n",
       "      <td>7</td>\n",
       "      <td>[negative, negative, negative, neutral, negati...</td>\n",
       "      <td>[toast, mayonnaise, bacon, cheese, ingredients...</td>\n",
       "      <td>[food]</td>\n",
       "      <td>1</td>\n",
       "      <td>[negative]</td>\n",
       "      <td>They did not have mayonnaise, forgot our toast...</td>\n",
       "      <td>296</td>\n",
       "    </tr>\n",
       "    <tr>\n",
       "      <th>11</th>\n",
       "      <td>2</td>\n",
       "      <td>[neutral, neutral]</td>\n",
       "      <td>[drinks, check]</td>\n",
       "      <td>[service]</td>\n",
       "      <td>1</td>\n",
       "      <td>[conflict]</td>\n",
       "      <td>It took half an hour to get our check, which w...</td>\n",
       "      <td>1793</td>\n",
       "    </tr>\n",
       "    <tr>\n",
       "      <th>12</th>\n",
       "      <td>2</td>\n",
       "      <td>[positive, positive]</td>\n",
       "      <td>[design, atmosphere]</td>\n",
       "      <td>[ambience]</td>\n",
       "      <td>1</td>\n",
       "      <td>[positive]</td>\n",
       "      <td>The design and atmosphere is just as good.</td>\n",
       "      <td>2200</td>\n",
       "    </tr>\n",
       "    <tr>\n",
       "      <th>13</th>\n",
       "      <td>1</td>\n",
       "      <td>[positive]</td>\n",
       "      <td>[cuisine]</td>\n",
       "      <td>[food]</td>\n",
       "      <td>1</td>\n",
       "      <td>[positive]</td>\n",
       "      <td>He has visited Thailand and is quite expert on...</td>\n",
       "      <td>3195</td>\n",
       "    </tr>\n",
       "    <tr>\n",
       "      <th>14</th>\n",
       "      <td>1</td>\n",
       "      <td>[positive]</td>\n",
       "      <td>[cuisine]</td>\n",
       "      <td>[anecdotes/miscellaneous]</td>\n",
       "      <td>1</td>\n",
       "      <td>[positive]</td>\n",
       "      <td>I would definitely recommend Mary's and am mak...</td>\n",
       "      <td>3119</td>\n",
       "    </tr>\n",
       "  </tbody>\n",
       "</table>\n",
       "</div>"
      ],
      "text/plain": [
       "    Aspect Count                                    Aspect Polarity  \\\n",
       "0              1                                         [negative]   \n",
       "1              1                                         [positive]   \n",
       "2              3                      [positive, positive, neutral]   \n",
       "3              3                      [positive, positive, neutral]   \n",
       "4              3                      [positive, positive, neutral]   \n",
       "5              2                               [positive, positive]   \n",
       "6              2                               [positive, positive]   \n",
       "7              4             [positive, positive, neutral, neutral]   \n",
       "8              1                                         [positive]   \n",
       "9              1                                         [positive]   \n",
       "10             7  [negative, negative, negative, neutral, negati...   \n",
       "11             2                                 [neutral, neutral]   \n",
       "12             2                               [positive, positive]   \n",
       "13             1                                         [positive]   \n",
       "14             1                                         [positive]   \n",
       "\n",
       "                                          Aspect Term  \\\n",
       "0                                             [staff]   \n",
       "1                                              [food]   \n",
       "2                               [food, kitchen, menu]   \n",
       "3                               [food, kitchen, menu]   \n",
       "4                               [food, kitchen, menu]   \n",
       "5                                       [food, perks]   \n",
       "6                                       [food, perks]   \n",
       "7   [orrechiete with sausage and chicken, waiters,...   \n",
       "8                                            [Bagels]   \n",
       "9                                              [food]   \n",
       "10  [toast, mayonnaise, bacon, cheese, ingredients...   \n",
       "11                                    [drinks, check]   \n",
       "12                               [design, atmosphere]   \n",
       "13                                          [cuisine]   \n",
       "14                                          [cuisine]   \n",
       "\n",
       "                           Category  Category Count     Category Polarity  \\\n",
       "0                         [service]               1            [negative]   \n",
       "1   [food, anecdotes/miscellaneous]               2  [positive, negative]   \n",
       "2                            [food]               1            [positive]   \n",
       "3                         [service]               1            [positive]   \n",
       "4         [anecdotes/miscellaneous]               1            [positive]   \n",
       "5                   [food, service]               2  [positive, positive]   \n",
       "6                     [food, price]               2  [negative, negative]   \n",
       "7                   [food, service]               2  [positive, positive]   \n",
       "8                            [food]               1            [positive]   \n",
       "9                            [food]               1            [positive]   \n",
       "10                           [food]               1            [negative]   \n",
       "11                        [service]               1            [conflict]   \n",
       "12                       [ambience]               1            [positive]   \n",
       "13                           [food]               1            [positive]   \n",
       "14        [anecdotes/miscellaneous]               1            [positive]   \n",
       "\n",
       "                                               Review Review ID  \n",
       "0                But the staff was so horrible to us.      3121  \n",
       "1   To be completely fair, the only redeeming fact...      2777  \n",
       "2   The food is uniformly exceptional, with a very...      1634  \n",
       "3   Where Gabriela personaly greets you and recomm...      2534  \n",
       "4   For those that go once and don't enjoy it, all...       583  \n",
       "5   Not only was the food outstanding, but the lit...      2846  \n",
       "6           It is very overpriced and not very tasty.      1571  \n",
       "7   Our agreed favorite is the orrechiete with sau...      1458  \n",
       "8   The Bagels have an outstanding taste with a te...      3161  \n",
       "9        Nevertheless the food itself is pretty good.      2391  \n",
       "10  They did not have mayonnaise, forgot our toast...       296  \n",
       "11  It took half an hour to get our check, which w...      1793  \n",
       "12         The design and atmosphere is just as good.      2200  \n",
       "13  He has visited Thailand and is quite expert on...      3195  \n",
       "14  I would definitely recommend Mary's and am mak...      3119  "
      ]
     },
     "execution_count": 11,
     "metadata": {},
     "output_type": "execute_result"
    }
   ],
   "source": [
    "reviews_pd.head(15)"
   ]
  },
  {
   "cell_type": "code",
   "execution_count": 17,
   "metadata": {
    "collapsed": true
   },
   "outputs": [],
   "source": [
    "from collections import Counter\n",
    "import matplotlib.pyplot as plt\n",
    "import numpy as np"
   ]
  },
  {
   "cell_type": "code",
   "execution_count": 18,
   "metadata": {
    "collapsed": false
   },
   "outputs": [
    {
     "data": {
      "text/plain": [
       "1971"
      ]
     },
     "execution_count": 18,
     "metadata": {},
     "output_type": "execute_result"
    }
   ],
   "source": [
    "# Let's look at the distribution of the Aspect Categories first\n",
    "asp_terms_freq = []\n",
    "\n",
    "for term in classifier_pd['Aspect Term']:\n",
    "    asp_terms_freq += term\n",
    "\n",
    "asp_terms_freq = Counter(asp_terms_freq)\n",
    "asp_terms_freq.most_common()[0:15]\n",
    "\n",
    "len(asp_terms_freq.keys())"
   ]
  },
  {
   "cell_type": "code",
   "execution_count": 19,
   "metadata": {
    "collapsed": true
   },
   "outputs": [],
   "source": [
    "term_freq_top15_x = [tup[0] for tup in asp_terms_freq.most_common()[0:15]]\n",
    "term_freq_top15_y = [tup[1] for tup in asp_terms_freq.most_common()[0:15]]"
   ]
  },
  {
   "cell_type": "code",
   "execution_count": 20,
   "metadata": {
    "collapsed": false
   },
   "outputs": [
    {
     "data": {
      "text/plain": [
       "array([ 0,  1,  2,  3,  4,  5,  6,  7,  8,  9, 10, 11, 12, 13, 14])"
      ]
     },
     "execution_count": 20,
     "metadata": {},
     "output_type": "execute_result"
    }
   ],
   "source": [
    "index = np.arange(len(term_freq_top15_x)) # for the xticks\n",
    "index"
   ]
  },
  {
   "cell_type": "code",
   "execution_count": 23,
   "metadata": {
    "collapsed": false
   },
   "outputs": [
    {
     "data": {
      "image/png": "[encoded data removed]",
      "text/plain": [
       "<Figure size 432x288 with 1 Axes>"
      ]
     },
     "metadata": {},
     "output_type": "display_data"
    }
   ],
   "source": [
    "plt.barh(index, term_freq_top15_y,\n",
    "         color='gold',  edgecolor='black')\n",
    "plt.yticks(index, term_freq_top15_x, fontsize = 10)\n",
    "plt.title(\"Distribution of Top 15 Aspect Terms from Term Extraction\")\n",
    "plt.ylabel(\"Aspect Terms\", fontsize = 12)\n",
    "plt.xlabel(\"Occurence Count\", fontsize = 12)\n",
    "plt.show()"
   ]
  },
  {
   "cell_type": "code",
   "execution_count": 24,
   "metadata": {
    "collapsed": false
   },
   "outputs": [
    {
     "data": {
      "text/plain": [
       "1971"
      ]
     },
     "execution_count": 24,
     "metadata": {},
     "output_type": "execute_result"
    }
   ],
   "source": [
    "asp_terms_freq = []\n",
    "\n",
    "for term in classifier_pd['Aspect Term']:\n",
    "    asp_terms_freq += term\n",
    "\n",
    "asp_terms_freq = Counter(asp_terms_freq)\n",
    "asp_terms_freq.most_common()[0:15]\n",
    "\n",
    "len(asp_terms_freq.keys())"
   ]
  },
  {
   "cell_type": "code",
   "execution_count": 25,
   "metadata": {
    "collapsed": true
   },
   "outputs": [],
   "source": [
    "pol_terms_freq = []\n",
    "\n",
    "for pol in classifier_pd['Aspect Polarity']:\n",
    "    pol_terms_freq += pol\n",
    "    \n",
    "pol_terms_freq = Counter(pol_terms_freq)"
   ]
  },
  {
   "cell_type": "code",
   "execution_count": 27,
   "metadata": {
    "collapsed": false
   },
   "outputs": [
    {
     "data": {
      "text/plain": [
       "1647"
      ]
     },
     "execution_count": 27,
     "metadata": {},
     "output_type": "execute_result"
    }
   ],
   "source": [
    "pol_terms_freq['positive']"
   ]
  },
  {
   "cell_type": "code",
   "execution_count": 28,
   "metadata": {
    "collapsed": false
   },
   "outputs": [
    {
     "data": {
      "text/plain": [
       "442"
      ]
     },
     "execution_count": 28,
     "metadata": {},
     "output_type": "execute_result"
    }
   ],
   "source": [
    "pol_terms_freq['negative']"
   ]
  },
  {
   "cell_type": "code",
   "execution_count": 29,
   "metadata": {
    "collapsed": false
   },
   "outputs": [
    {
     "data": {
      "text/plain": [
       "1846"
      ]
     },
     "execution_count": 29,
     "metadata": {},
     "output_type": "execute_result"
    }
   ],
   "source": [
    "pol_terms_freq['neutral']"
   ]
  },
  {
   "cell_type": "code",
   "execution_count": 31,
   "metadata": {
    "collapsed": false
   },
   "outputs": [
    {
     "data": {
      "image/png": "[encoded data removed]",
      "text/plain": [
       "<Figure size 432x288 with 1 Axes>"
      ]
     },
     "metadata": {},
     "output_type": "display_data"
    }
   ],
   "source": [
    "womenMeans = (25, 32, 34, 20, 25)\n",
    "menMeans = (20, 35, 30, 35, 27)\n",
    "indices = range(len(womenMeans))\n",
    "names = ['Asian','European','North Amercian','African','Austrailian','Martian']\n",
    "# Calculate optimal width\n",
    "width = np.min(np.diff(indices))/3.\n",
    "\n",
    "fig = plt.figure()\n",
    "ax = fig.add_subplot(111)\n",
    "ax.bar(indices-width/2.,womenMeans,width,color='b',label='-Ymin')\n",
    "ax.bar(indices+width/2.,menMeans,width,color='r',label='Ymax')\n",
    "#tiks = ax.get_xticks().tolist()\n",
    "ax.axes.set_xticklabels(names)\n",
    "ax.set_xlabel('Test histogram')\n",
    "plt.show()"
   ]
  },
  {
   "cell_type": "code",
   "execution_count": 90,
   "metadata": {
    "collapsed": true
   },
   "outputs": [],
   "source": [
    "# food, ambience, price, service, anecdotes/misc.\n",
    "positive = (700, 200, 600, 350, 450)\n",
    "negative = (100, 620, 320, 500, 200)\n",
    "neutral = (200, 500, 80, 150, 350)"
   ]
  },
  {
   "cell_type": "code",
   "execution_count": 91,
   "metadata": {
    "collapsed": true
   },
   "outputs": [],
   "source": [
    "indices = range(len(positive))\n",
    "labels = ['x', 'Food', 'Ambience', 'Price', 'Service', 'Misc.']"
   ]
  },
  {
   "cell_type": "code",
   "execution_count": 92,
   "metadata": {
    "collapsed": true
   },
   "outputs": [],
   "source": [
    "width = np.min(np.diff(indices))/4."
   ]
  },
  {
   "cell_type": "code",
   "execution_count": 137,
   "metadata": {
    "collapsed": false
   },
   "outputs": [
    {
     "data": {
      "text/plain": [
       "Text(0.5,1,\"Customer Sentiment towards a Restaurant's Features\")"
      ]
     },
     "execution_count": 137,
     "metadata": {},
     "output_type": "execute_result"
    }
   ],
   "source": [
    "fig = plt.figure()\n",
    "ax = fig.add_subplot(111)\n",
    "ax.bar(indices-width/2., positive,width,color='steelblue', edgecolor='black')\n",
    "# ax.bar(indices+width/2., neutral,width,color='red', label='Yblah', edgecolor='black')\n",
    "ax.bar(indices+width/2., negative,width,color='gold', edgecolor='black')\n",
    "\n",
    "ax.axes.set_xticklabels(labels)\n",
    "ax.set_xlabel('Restaurant Features')\n",
    "ax.set_ylabel('Count')\n",
    "ax.legend(['positive', 'negative'])\n",
    "ax.set_title('Customer Sentiment towards a Restaurant\\'s Features')"
   ]
  },
  {
   "cell_type": "code",
   "execution_count": 138,
   "metadata": {
    "collapsed": false
   },
   "outputs": [
    {
     "data": {
      "image/png": "[encoded data removed]",
      "text/plain": [
       "<Figure size 432x288 with 1 Axes>"
      ]
     },
     "metadata": {},
     "output_type": "display_data"
    }
   ],
   "source": [
    "plt.show()\n",
    "plt.savefig('term-dist.png')"
   ]
  },
  {
   "cell_type": "code",
   "execution_count": null,
   "metadata": {
    "collapsed": true
   },
   "outputs": [],
   "source": []
  }
 ],
 "metadata": {
  "kernelspec": {
   "display_name": "Python [conda env:Anaconda3]",
   "language": "python",
   "name": "conda-env-Anaconda3-py"
  },
  "language_info": {
   "codemirror_mode": {
    "name": "ipython",
    "version": 3
   },
   "file_extension": ".py",
   "mimetype": "text/x-python",
   "name": "python",
   "nbconvert_exporter": "python",
   "pygments_lexer": "ipython3",
   "version": "3.5.6"
  }
 },
 "nbformat": 4,
 "nbformat_minor": 2
}
